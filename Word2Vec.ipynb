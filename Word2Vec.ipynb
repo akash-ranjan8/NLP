{
  "nbformat": 4,
  "nbformat_minor": 0,
  "metadata": {
    "colab": {
      "name": "Word2Vec.ipynb",
      "provenance": [],
      "authorship_tag": "ABX9TyPVhh/qy0X5HdQD34W+OSfl",
      "include_colab_link": true
    },
    "kernelspec": {
      "name": "python3",
      "display_name": "Python 3"
    },
    "language_info": {
      "name": "python"
    }
  },
  "cells": [
    {
      "cell_type": "markdown",
      "metadata": {
        "id": "view-in-github",
        "colab_type": "text"
      },
      "source": [
        "<a href=\"https://colab.research.google.com/github/akash-ranjan8/NLP/blob/main/Word2Vec.ipynb\" target=\"_parent\"><img src=\"https://colab.research.google.com/assets/colab-badge.svg\" alt=\"Open In Colab\"/></a>"
      ]
    },
    {
      "cell_type": "code",
      "metadata": {
        "id": "0rnmTGVswMtB"
      },
      "source": [
        "import nltk\n",
        "\n",
        "from gensim.models import Word2Vec\n",
        "from nltk.corpus import stopwords\n",
        "\n",
        "import re"
      ],
      "execution_count": 1,
      "outputs": []
    },
    {
      "cell_type": "code",
      "metadata": {
        "colab": {
          "base_uri": "https://localhost:8080/"
        },
        "id": "xo11FyW8wiGv",
        "outputId": "a39eada5-f66f-497e-c90f-fc7211933cd6"
      },
      "source": [
        "nltk.download('punkt')"
      ],
      "execution_count": 6,
      "outputs": [
        {
          "output_type": "stream",
          "text": [
            "[nltk_data] Downloading package punkt to /root/nltk_data...\n",
            "[nltk_data]   Unzipping tokenizers/punkt.zip.\n"
          ],
          "name": "stdout"
        },
        {
          "output_type": "execute_result",
          "data": {
            "text/plain": [
              "True"
            ]
          },
          "metadata": {
            "tags": []
          },
          "execution_count": 6
        }
      ]
    },
    {
      "cell_type": "code",
      "metadata": {
        "colab": {
          "base_uri": "https://localhost:8080/"
        },
        "id": "nnJbtXUXwsgo",
        "outputId": "cdee202d-ef94-4693-adc5-60f4b5d372a9"
      },
      "source": [
        "nltk.download('stopwords')"
      ],
      "execution_count": 8,
      "outputs": [
        {
          "output_type": "stream",
          "text": [
            "[nltk_data] Downloading package stopwords to /root/nltk_data...\n",
            "[nltk_data]   Unzipping corpora/stopwords.zip.\n"
          ],
          "name": "stdout"
        },
        {
          "output_type": "execute_result",
          "data": {
            "text/plain": [
              "True"
            ]
          },
          "metadata": {
            "tags": []
          },
          "execution_count": 8
        }
      ]
    },
    {
      "cell_type": "code",
      "metadata": {
        "id": "hQ0NxFCxwRaa"
      },
      "source": [
        "paragraph = \"\"\"I have three visions for India. In 3000 years of our history, people from all over \n",
        "               the world have come and invaded us, captured our lands, conquered our minds. \n",
        "               From Alexander onwards, the Greeks, the Turks, the Moguls, the Portuguese, the British,\n",
        "               the French, the Dutch, all of them came and looted us, took over what was ours. \n",
        "               Yet we have not done this to any other nation. We have not conquered anyone. \n",
        "               We have not grabbed their land, their culture, \n",
        "               their history and tried to enforce our way of life on them. \n",
        "               Why? Because we respect the freedom of others.That is why my \n",
        "               first vision is that of freedom. I believe that India got its first vision of \n",
        "               this in 1857, when we started the War of Independence. It is this freedom that\n",
        "               we must protect and nurture and build on. If we are not free, no one will respect us.\n",
        "               My second vision for India’s development. For fifty years we have been a developing nation.\n",
        "               It is time we see ourselves as a developed nation. We are among the top 5 nations of the world\n",
        "               in terms of GDP. We have a 10 percent growth rate in most areas. Our poverty levels are falling.\n",
        "               Our achievements are being globally recognised today. Yet we lack the self-confidence to\n",
        "               see ourselves as a developed nation, self-reliant and self-assured. Isn’t this incorrect?\n",
        "               I have a third vision. India must stand up to the world. Because I believe that unless India \n",
        "               stands up to the world, no one will respect us. Only strength respects strength. We must be \n",
        "               strong not only as a military power but also as an economic power. Both must go hand-in-hand. \n",
        "               My good fortune was to have worked with three great minds. Dr. Vikram Sarabhai of the Dept. of \n",
        "               space, Professor Satish Dhawan, who succeeded him and Dr. Brahm Prakash, father of nuclear material.\n",
        "               I was lucky to have worked with all three of them closely and consider this the great opportunity of my life. \n",
        "               I see four milestones in my career\"\"\""
      ],
      "execution_count": 2,
      "outputs": []
    },
    {
      "cell_type": "code",
      "metadata": {
        "id": "OMUsQqBtwTGd"
      },
      "source": [
        "# Preprocessing the data\n",
        "text = re.sub(r'\\[[0-9]*\\]',' ',paragraph)\n",
        "text = re.sub(r'\\s+',' ',text)\n",
        "text = text.lower()\n",
        "text = re.sub(r'\\d',' ',text)\n",
        "text = re.sub(r'\\s+',' ',text)"
      ],
      "execution_count": 3,
      "outputs": []
    },
    {
      "cell_type": "code",
      "metadata": {
        "colab": {
          "base_uri": "https://localhost:8080/",
          "height": 139
        },
        "id": "8aAsiL2BwY25",
        "outputId": "ddaa717e-8471-46ab-bcbb-b3c5b6072f64"
      },
      "source": [
        "text"
      ],
      "execution_count": 4,
      "outputs": [
        {
          "output_type": "execute_result",
          "data": {
            "application/vnd.google.colaboratory.intrinsic+json": {
              "type": "string"
            },
            "text/plain": [
              "'i have three visions for india. in years of our history, people from all over the world have come and invaded us, captured our lands, conquered our minds. from alexander onwards, the greeks, the turks, the moguls, the portuguese, the british, the french, the dutch, all of them came and looted us, took over what was ours. yet we have not done this to any other nation. we have not conquered anyone. we have not grabbed their land, their culture, their history and tried to enforce our way of life on them. why? because we respect the freedom of others.that is why my first vision is that of freedom. i believe that india got its first vision of this in , when we started the war of independence. it is this freedom that we must protect and nurture and build on. if we are not free, no one will respect us. my second vision for india’s development. for fifty years we have been a developing nation. it is time we see ourselves as a developed nation. we are among the top nations of the world in terms of gdp. we have a percent growth rate in most areas. our poverty levels are falling. our achievements are being globally recognised today. yet we lack the self-confidence to see ourselves as a developed nation, self-reliant and self-assured. isn’t this incorrect? i have a third vision. india must stand up to the world. because i believe that unless india stands up to the world, no one will respect us. only strength respects strength. we must be strong not only as a military power but also as an economic power. both must go hand-in-hand. my good fortune was to have worked with three great minds. dr. vikram sarabhai of the dept. of space, professor satish dhawan, who succeeded him and dr. brahm prakash, father of nuclear material. i was lucky to have worked with all three of them closely and consider this the great opportunity of my life. i see four milestones in my career'"
            ]
          },
          "metadata": {
            "tags": []
          },
          "execution_count": 4
        }
      ]
    },
    {
      "cell_type": "code",
      "metadata": {
        "id": "ldDd52N0wbCS"
      },
      "source": [
        "# Preparing the dataset\n",
        "sentences = nltk.sent_tokenize(text)\n",
        "\n",
        "sentences = [nltk.word_tokenize(sentence) for sentence in sentences]\n",
        "\n",
        "for i in range(len(sentences)):\n",
        "    sentences[i] = [word for word in sentences[i] if word not in stopwords.words('english')]\n",
        "    "
      ],
      "execution_count": 9,
      "outputs": []
    },
    {
      "cell_type": "code",
      "metadata": {
        "id": "2TUksujcwnQ4"
      },
      "source": [
        "# Training the Word2Vec model\n",
        "model = Word2Vec(sentences, min_count=1)"
      ],
      "execution_count": 10,
      "outputs": []
    },
    {
      "cell_type": "code",
      "metadata": {
        "colab": {
          "base_uri": "https://localhost:8080/"
        },
        "id": "EAMJzN-gw0LP",
        "outputId": "9f987b4f-c323-4d17-f049-f87a35c86416"
      },
      "source": [
        "model"
      ],
      "execution_count": 11,
      "outputs": [
        {
          "output_type": "execute_result",
          "data": {
            "text/plain": [
              "<gensim.models.word2vec.Word2Vec at 0x7f8634fce850>"
            ]
          },
          "metadata": {
            "tags": []
          },
          "execution_count": 11
        }
      ]
    },
    {
      "cell_type": "code",
      "metadata": {
        "id": "fGA21LYRw2GP"
      },
      "source": [
        "words = model.wv.vocab\n",
        "\n",
        "# Finding Word Vectors\n",
        "vector = model.wv['war']\n",
        "\n",
        "# Most similar words\n",
        "similar = model.wv.most_similar('vikram')"
      ],
      "execution_count": 12,
      "outputs": []
    },
    {
      "cell_type": "code",
      "metadata": {
        "colab": {
          "base_uri": "https://localhost:8080/"
        },
        "id": "hGzaaqO4w7k-",
        "outputId": "6e7c9b3d-ed64-44fa-b2b7-f99136bacc14"
      },
      "source": [
        "words"
      ],
      "execution_count": 13,
      "outputs": [
        {
          "output_type": "execute_result",
          "data": {
            "text/plain": [
              "{',': <gensim.models.keyedvectors.Vocab at 0x7f8634f667d0>,\n",
              " '.': <gensim.models.keyedvectors.Vocab at 0x7f8634fce890>,\n",
              " '?': <gensim.models.keyedvectors.Vocab at 0x7f8634f66ed0>,\n",
              " 'achievements': <gensim.models.keyedvectors.Vocab at 0x7f8634f61a90>,\n",
              " 'alexander': <gensim.models.keyedvectors.Vocab at 0x7f8634f66fd0>,\n",
              " 'also': <gensim.models.keyedvectors.Vocab at 0x7f8634fd1c50>,\n",
              " 'among': <gensim.models.keyedvectors.Vocab at 0x7f8634fc94d0>,\n",
              " 'anyone': <gensim.models.keyedvectors.Vocab at 0x7f8634f66cd0>,\n",
              " 'areas': <gensim.models.keyedvectors.Vocab at 0x7f8634f61c50>,\n",
              " 'believe': <gensim.models.keyedvectors.Vocab at 0x7f8634fc9e10>,\n",
              " 'brahm': <gensim.models.keyedvectors.Vocab at 0x7f8634fd1510>,\n",
              " 'british': <gensim.models.keyedvectors.Vocab at 0x7f8634f66150>,\n",
              " 'build': <gensim.models.keyedvectors.Vocab at 0x7f8634fc9350>,\n",
              " 'came': <gensim.models.keyedvectors.Vocab at 0x7f8634f66890>,\n",
              " 'captured': <gensim.models.keyedvectors.Vocab at 0x7f8634f66d10>,\n",
              " 'career': <gensim.models.keyedvectors.Vocab at 0x7f86350e4750>,\n",
              " 'closely': <gensim.models.keyedvectors.Vocab at 0x7f8652d19550>,\n",
              " 'come': <gensim.models.keyedvectors.Vocab at 0x7f8634f66950>,\n",
              " 'conquered': <gensim.models.keyedvectors.Vocab at 0x7f8634f66f90>,\n",
              " 'consider': <gensim.models.keyedvectors.Vocab at 0x7f86350dc110>,\n",
              " 'culture': <gensim.models.keyedvectors.Vocab at 0x7f8634f66a10>,\n",
              " 'dept': <gensim.models.keyedvectors.Vocab at 0x7f8634fd1d50>,\n",
              " 'developed': <gensim.models.keyedvectors.Vocab at 0x7f8634fc9c50>,\n",
              " 'developing': <gensim.models.keyedvectors.Vocab at 0x7f8634fc92d0>,\n",
              " 'development': <gensim.models.keyedvectors.Vocab at 0x7f8634fc90d0>,\n",
              " 'dhawan': <gensim.models.keyedvectors.Vocab at 0x7f8634fd1e50>,\n",
              " 'done': <gensim.models.keyedvectors.Vocab at 0x7f8634f66c10>,\n",
              " 'dr.': <gensim.models.keyedvectors.Vocab at 0x7f8634fd1e90>,\n",
              " 'dutch': <gensim.models.keyedvectors.Vocab at 0x7f8634f66d50>,\n",
              " 'economic': <gensim.models.keyedvectors.Vocab at 0x7f8634fd1a10>,\n",
              " 'enforce': <gensim.models.keyedvectors.Vocab at 0x7f8634f66e10>,\n",
              " 'falling': <gensim.models.keyedvectors.Vocab at 0x7f8634f61c90>,\n",
              " 'father': <gensim.models.keyedvectors.Vocab at 0x7f8634fd1cd0>,\n",
              " 'fifty': <gensim.models.keyedvectors.Vocab at 0x7f8634fc9c10>,\n",
              " 'first': <gensim.models.keyedvectors.Vocab at 0x7f8634fc9b10>,\n",
              " 'fortune': <gensim.models.keyedvectors.Vocab at 0x7f8634fd1f50>,\n",
              " 'four': <gensim.models.keyedvectors.Vocab at 0x7f86350e4c10>,\n",
              " 'free': <gensim.models.keyedvectors.Vocab at 0x7f8634fc9490>,\n",
              " 'freedom': <gensim.models.keyedvectors.Vocab at 0x7f8634fc9c90>,\n",
              " 'french': <gensim.models.keyedvectors.Vocab at 0x7f8634f66a90>,\n",
              " 'gdp': <gensim.models.keyedvectors.Vocab at 0x7f8634f61250>,\n",
              " 'globally': <gensim.models.keyedvectors.Vocab at 0x7f8634f61bd0>,\n",
              " 'go': <gensim.models.keyedvectors.Vocab at 0x7f8634fd1a50>,\n",
              " 'good': <gensim.models.keyedvectors.Vocab at 0x7f8634fd1fd0>,\n",
              " 'got': <gensim.models.keyedvectors.Vocab at 0x7f8634fc9250>,\n",
              " 'grabbed': <gensim.models.keyedvectors.Vocab at 0x7f8634f66990>,\n",
              " 'great': <gensim.models.keyedvectors.Vocab at 0x7f8634fd1750>,\n",
              " 'greeks': <gensim.models.keyedvectors.Vocab at 0x7f8634f66850>,\n",
              " 'growth': <gensim.models.keyedvectors.Vocab at 0x7f8634f61690>,\n",
              " 'hand-in-hand': <gensim.models.keyedvectors.Vocab at 0x7f8634fd1a90>,\n",
              " 'history': <gensim.models.keyedvectors.Vocab at 0x7f8634f66e90>,\n",
              " 'incorrect': <gensim.models.keyedvectors.Vocab at 0x7f8634fd1190>,\n",
              " 'independence': <gensim.models.keyedvectors.Vocab at 0x7f8634fc9650>,\n",
              " 'india': <gensim.models.keyedvectors.Vocab at 0x7f8634fceb10>,\n",
              " 'invaded': <gensim.models.keyedvectors.Vocab at 0x7f8634f66090>,\n",
              " 'lack': <gensim.models.keyedvectors.Vocab at 0x7f863569fe50>,\n",
              " 'land': <gensim.models.keyedvectors.Vocab at 0x7f8634f66d90>,\n",
              " 'lands': <gensim.models.keyedvectors.Vocab at 0x7f8634f66bd0>,\n",
              " 'levels': <gensim.models.keyedvectors.Vocab at 0x7f8634f61b10>,\n",
              " 'life': <gensim.models.keyedvectors.Vocab at 0x7f8634f66c50>,\n",
              " 'looted': <gensim.models.keyedvectors.Vocab at 0x7f8634f66790>,\n",
              " 'lucky': <gensim.models.keyedvectors.Vocab at 0x7f8637e02650>,\n",
              " 'material': <gensim.models.keyedvectors.Vocab at 0x7f8635689bd0>,\n",
              " 'milestones': <gensim.models.keyedvectors.Vocab at 0x7f86350e4e50>,\n",
              " 'military': <gensim.models.keyedvectors.Vocab at 0x7f8634fd19d0>,\n",
              " 'minds': <gensim.models.keyedvectors.Vocab at 0x7f8634f66c90>,\n",
              " 'moguls': <gensim.models.keyedvectors.Vocab at 0x7f8634f66f10>,\n",
              " 'must': <gensim.models.keyedvectors.Vocab at 0x7f8634fc9f10>,\n",
              " 'nation': <gensim.models.keyedvectors.Vocab at 0x7f8634f66dd0>,\n",
              " 'nations': <gensim.models.keyedvectors.Vocab at 0x7f8634fc9a90>,\n",
              " 'nuclear': <gensim.models.keyedvectors.Vocab at 0x7f8634fd1b50>,\n",
              " 'nurture': <gensim.models.keyedvectors.Vocab at 0x7f8634fc9d10>,\n",
              " 'one': <gensim.models.keyedvectors.Vocab at 0x7f8634fc9b90>,\n",
              " 'onwards': <gensim.models.keyedvectors.Vocab at 0x7f8634f66910>,\n",
              " 'opportunity': <gensim.models.keyedvectors.Vocab at 0x7f86350e4690>,\n",
              " 'others.that': <gensim.models.keyedvectors.Vocab at 0x7f8634fc93d0>,\n",
              " 'people': <gensim.models.keyedvectors.Vocab at 0x7f8634f668d0>,\n",
              " 'percent': <gensim.models.keyedvectors.Vocab at 0x7f8634f615d0>,\n",
              " 'portuguese': <gensim.models.keyedvectors.Vocab at 0x7f8634f66ad0>,\n",
              " 'poverty': <gensim.models.keyedvectors.Vocab at 0x7f8634f61b50>,\n",
              " 'power': <gensim.models.keyedvectors.Vocab at 0x7f8634fd1dd0>,\n",
              " 'prakash': <gensim.models.keyedvectors.Vocab at 0x7f8634fd1d10>,\n",
              " 'professor': <gensim.models.keyedvectors.Vocab at 0x7f8634fd1f90>,\n",
              " 'protect': <gensim.models.keyedvectors.Vocab at 0x7f8634fc9e50>,\n",
              " 'rate': <gensim.models.keyedvectors.Vocab at 0x7f8634f61d90>,\n",
              " 'recognised': <gensim.models.keyedvectors.Vocab at 0x7f8634f619d0>,\n",
              " 'respect': <gensim.models.keyedvectors.Vocab at 0x7f8634f66b10>,\n",
              " 'respects': <gensim.models.keyedvectors.Vocab at 0x7f8634fd1d90>,\n",
              " 'sarabhai': <gensim.models.keyedvectors.Vocab at 0x7f8634fd16d0>,\n",
              " 'satish': <gensim.models.keyedvectors.Vocab at 0x7f8634fd1f10>,\n",
              " 'second': <gensim.models.keyedvectors.Vocab at 0x7f8634fc9210>,\n",
              " 'see': <gensim.models.keyedvectors.Vocab at 0x7f8634fc98d0>,\n",
              " 'self-assured': <gensim.models.keyedvectors.Vocab at 0x7f86356eae90>,\n",
              " 'self-confidence': <gensim.models.keyedvectors.Vocab at 0x7f86350d9310>,\n",
              " 'self-reliant': <gensim.models.keyedvectors.Vocab at 0x7f863564c050>,\n",
              " 'space': <gensim.models.keyedvectors.Vocab at 0x7f8634fd1c90>,\n",
              " 'stand': <gensim.models.keyedvectors.Vocab at 0x7f8634fd10d0>,\n",
              " 'stands': <gensim.models.keyedvectors.Vocab at 0x7f8634fd1b90>,\n",
              " 'started': <gensim.models.keyedvectors.Vocab at 0x7f8634fc9f50>,\n",
              " 'strength': <gensim.models.keyedvectors.Vocab at 0x7f8634fd1c10>,\n",
              " 'strong': <gensim.models.keyedvectors.Vocab at 0x7f8634fd1490>,\n",
              " 'succeeded': <gensim.models.keyedvectors.Vocab at 0x7f8634fd1bd0>,\n",
              " 'terms': <gensim.models.keyedvectors.Vocab at 0x7f8634f61f10>,\n",
              " 'third': <gensim.models.keyedvectors.Vocab at 0x7f8634fd1250>,\n",
              " 'three': <gensim.models.keyedvectors.Vocab at 0x7f8634fcee90>,\n",
              " 'time': <gensim.models.keyedvectors.Vocab at 0x7f8634fc9290>,\n",
              " 'today': <gensim.models.keyedvectors.Vocab at 0x7f8634f61fd0>,\n",
              " 'took': <gensim.models.keyedvectors.Vocab at 0x7f8634f66f50>,\n",
              " 'top': <gensim.models.keyedvectors.Vocab at 0x7f8634fc9310>,\n",
              " 'tried': <gensim.models.keyedvectors.Vocab at 0x7f8634f660d0>,\n",
              " 'turks': <gensim.models.keyedvectors.Vocab at 0x7f8634f66a50>,\n",
              " 'unless': <gensim.models.keyedvectors.Vocab at 0x7f8634fd1ed0>,\n",
              " 'us': <gensim.models.keyedvectors.Vocab at 0x7f8634f66e50>,\n",
              " 'vikram': <gensim.models.keyedvectors.Vocab at 0x7f8634fd1e10>,\n",
              " 'vision': <gensim.models.keyedvectors.Vocab at 0x7f8634fc99d0>,\n",
              " 'visions': <gensim.models.keyedvectors.Vocab at 0x7f8634fce390>,\n",
              " 'war': <gensim.models.keyedvectors.Vocab at 0x7f8634fc9e90>,\n",
              " 'way': <gensim.models.keyedvectors.Vocab at 0x7f8634f66b50>,\n",
              " 'worked': <gensim.models.keyedvectors.Vocab at 0x7f8634fd1b10>,\n",
              " 'world': <gensim.models.keyedvectors.Vocab at 0x7f8634fce210>,\n",
              " 'years': <gensim.models.keyedvectors.Vocab at 0x7f8634f669d0>,\n",
              " 'yet': <gensim.models.keyedvectors.Vocab at 0x7f8634f66b90>,\n",
              " '’': <gensim.models.keyedvectors.Vocab at 0x7f8634fc9950>}"
            ]
          },
          "metadata": {
            "tags": []
          },
          "execution_count": 13
        }
      ]
    },
    {
      "cell_type": "code",
      "metadata": {
        "colab": {
          "base_uri": "https://localhost:8080/"
        },
        "id": "GNcAnFDaw9aI",
        "outputId": "4c7c7c58-d057-4270-b578-d87163e09879"
      },
      "source": [
        "vector"
      ],
      "execution_count": 14,
      "outputs": [
        {
          "output_type": "execute_result",
          "data": {
            "text/plain": [
              "array([ 2.3766188e-03, -6.7791407e-04,  2.0748337e-03, -2.5486099e-03,\n",
              "        2.1765407e-03,  2.6041982e-03, -3.4248927e-03, -5.4609531e-04,\n",
              "        3.9402131e-04,  3.6591713e-03,  6.4582552e-04, -4.8695197e-03,\n",
              "        3.4413154e-03, -4.5123780e-03,  1.5463155e-03, -1.8142860e-03,\n",
              "        3.7748325e-03,  3.3161649e-03,  4.7980165e-03, -3.3780462e-03,\n",
              "       -4.2266129e-03, -4.9642310e-03, -2.5701125e-03, -1.3374520e-03,\n",
              "       -4.1573504e-03,  4.6818731e-03, -1.9522350e-04,  1.5426542e-03,\n",
              "       -1.4599463e-03,  2.3206498e-03, -2.7023391e-03, -8.2745946e-06,\n",
              "        1.1808353e-03,  2.7544172e-03,  3.1499676e-03,  4.1253963e-03,\n",
              "        3.2957320e-03,  9.9673693e-04, -3.3278980e-03, -2.6195441e-04,\n",
              "        2.1328074e-03,  2.1465274e-03, -4.2526084e-03,  3.0986154e-03,\n",
              "       -3.1355040e-03, -1.0330098e-03, -6.7335268e-04,  3.4931742e-03,\n",
              "       -1.8361114e-03,  9.1364601e-04,  2.5511757e-03,  9.9344191e-04,\n",
              "        7.0663700e-05,  9.0742967e-04,  3.2509358e-03, -1.7226484e-03,\n",
              "       -2.1135879e-03,  1.9504152e-03,  3.1360851e-03,  2.3660788e-03,\n",
              "       -3.2587771e-03,  1.3003345e-03,  5.7078473e-04,  6.9347268e-04,\n",
              "        4.8451945e-03,  3.6217372e-03, -1.1470058e-05, -1.7340472e-03,\n",
              "        2.8727197e-03,  2.5381737e-03, -3.5518655e-04, -4.5078346e-03,\n",
              "       -3.4330895e-03,  1.3693725e-03,  1.2186386e-03,  5.9824449e-04,\n",
              "        1.0949236e-03,  9.0719177e-06, -5.9440668e-04,  2.2847871e-03,\n",
              "        1.4670563e-03,  3.3306431e-03, -4.9704132e-03, -3.7528714e-03,\n",
              "       -2.4057517e-03, -3.7307728e-03,  9.7606255e-04,  1.9684166e-03,\n",
              "        1.6179993e-03, -5.4071855e-04, -1.3421351e-03,  3.4286773e-03,\n",
              "        2.8956553e-03, -4.7935592e-03, -1.9870326e-03, -4.9156579e-03,\n",
              "       -9.2341879e-04, -1.3372552e-03, -1.1092070e-03,  2.4701094e-03],\n",
              "      dtype=float32)"
            ]
          },
          "metadata": {
            "tags": []
          },
          "execution_count": 14
        }
      ]
    },
    {
      "cell_type": "code",
      "metadata": {
        "colab": {
          "base_uri": "https://localhost:8080/"
        },
        "id": "n5Ye6xWVxBo_",
        "outputId": "06ca1d36-7137-4d7e-8b71-bde2ca0b8a3f"
      },
      "source": [
        "similar"
      ],
      "execution_count": 15,
      "outputs": [
        {
          "output_type": "execute_result",
          "data": {
            "text/plain": [
              "[('go', 0.2883498966693878),\n",
              " ('great', 0.23825660347938538),\n",
              " ('must', 0.22104083001613617),\n",
              " ('power', 0.1869497299194336),\n",
              " ('way', 0.18501755595207214),\n",
              " ('anyone', 0.18118050694465637),\n",
              " ('fortune', 0.1703791618347168),\n",
              " ('material', 0.168946772813797),\n",
              " ('nation', 0.1629236936569214),\n",
              " ('came', 0.1600382924079895)]"
            ]
          },
          "metadata": {
            "tags": []
          },
          "execution_count": 15
        }
      ]
    }
  ]
}