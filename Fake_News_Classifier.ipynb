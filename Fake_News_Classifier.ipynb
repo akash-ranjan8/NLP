{
  "nbformat": 4,
  "nbformat_minor": 0,
  "metadata": {
    "colab": {
      "name": "Fake_News_Classifier.ipynb",
      "provenance": [],
      "collapsed_sections": [],
      "authorship_tag": "ABX9TyOK0rfgmZwb9eKqmtMhXFC5",
      "include_colab_link": true
    },
    "kernelspec": {
      "name": "python3",
      "display_name": "Python 3"
    },
    "language_info": {
      "name": "python"
    }
  },
  "cells": [
    {
      "cell_type": "markdown",
      "metadata": {
        "id": "view-in-github",
        "colab_type": "text"
      },
      "source": [
        "<a href=\"https://colab.research.google.com/github/akash-ranjan8/NLP/blob/main/Fake_News_Classifier.ipynb\" target=\"_parent\"><img src=\"https://colab.research.google.com/assets/colab-badge.svg\" alt=\"Open In Colab\"/></a>"
      ]
    },
    {
      "cell_type": "markdown",
      "metadata": {
        "id": "t1a1sVUKK_M6"
      },
      "source": [
        "#**Fake News Classifier**"
      ]
    },
    {
      "cell_type": "code",
      "metadata": {
        "id": "dvJrg_PQKTue"
      },
      "source": [
        "#Importing the Libraries\n",
        "import pandas as pd\n",
        "import numpy as np"
      ],
      "execution_count": 30,
      "outputs": []
    },
    {
      "cell_type": "code",
      "metadata": {
        "id": "FqYJC04fLNem"
      },
      "source": [
        "#Reading the Train set\n",
        "df=pd.read_csv('train.csv')"
      ],
      "execution_count": 31,
      "outputs": []
    },
    {
      "cell_type": "code",
      "metadata": {
        "colab": {
          "base_uri": "https://localhost:8080/",
          "height": 275
        },
        "id": "Ycjiokb2PilM",
        "outputId": "de93fa46-e25e-4c34-ff82-974153ac066b"
      },
      "source": [
        "df.head()"
      ],
      "execution_count": 32,
      "outputs": [
        {
          "output_type": "execute_result",
          "data": {
            "text/html": [
              "<div>\n",
              "<style scoped>\n",
              "    .dataframe tbody tr th:only-of-type {\n",
              "        vertical-align: middle;\n",
              "    }\n",
              "\n",
              "    .dataframe tbody tr th {\n",
              "        vertical-align: top;\n",
              "    }\n",
              "\n",
              "    .dataframe thead th {\n",
              "        text-align: right;\n",
              "    }\n",
              "</style>\n",
              "<table border=\"1\" class=\"dataframe\">\n",
              "  <thead>\n",
              "    <tr style=\"text-align: right;\">\n",
              "      <th></th>\n",
              "      <th>id</th>\n",
              "      <th>title</th>\n",
              "      <th>author</th>\n",
              "      <th>text</th>\n",
              "      <th>label</th>\n",
              "    </tr>\n",
              "  </thead>\n",
              "  <tbody>\n",
              "    <tr>\n",
              "      <th>0</th>\n",
              "      <td>0</td>\n",
              "      <td>House Dem Aide: We Didn’t Even See Comey’s Let...</td>\n",
              "      <td>Darrell Lucus</td>\n",
              "      <td>House Dem Aide: We Didn’t Even See Comey’s Let...</td>\n",
              "      <td>1</td>\n",
              "    </tr>\n",
              "    <tr>\n",
              "      <th>1</th>\n",
              "      <td>1</td>\n",
              "      <td>FLYNN: Hillary Clinton, Big Woman on Campus - ...</td>\n",
              "      <td>Daniel J. Flynn</td>\n",
              "      <td>Ever get the feeling your life circles the rou...</td>\n",
              "      <td>0</td>\n",
              "    </tr>\n",
              "    <tr>\n",
              "      <th>2</th>\n",
              "      <td>2</td>\n",
              "      <td>Why the Truth Might Get You Fired</td>\n",
              "      <td>Consortiumnews.com</td>\n",
              "      <td>Why the Truth Might Get You Fired October 29, ...</td>\n",
              "      <td>1</td>\n",
              "    </tr>\n",
              "    <tr>\n",
              "      <th>3</th>\n",
              "      <td>3</td>\n",
              "      <td>15 Civilians Killed In Single US Airstrike Hav...</td>\n",
              "      <td>Jessica Purkiss</td>\n",
              "      <td>Videos 15 Civilians Killed In Single US Airstr...</td>\n",
              "      <td>1</td>\n",
              "    </tr>\n",
              "    <tr>\n",
              "      <th>4</th>\n",
              "      <td>4</td>\n",
              "      <td>Iranian woman jailed for fictional unpublished...</td>\n",
              "      <td>Howard Portnoy</td>\n",
              "      <td>Print \\nAn Iranian woman has been sentenced to...</td>\n",
              "      <td>1</td>\n",
              "    </tr>\n",
              "  </tbody>\n",
              "</table>\n",
              "</div>"
            ],
            "text/plain": [
              "   id  ... label\n",
              "0   0  ...     1\n",
              "1   1  ...     0\n",
              "2   2  ...     1\n",
              "3   3  ...     1\n",
              "4   4  ...     1\n",
              "\n",
              "[5 rows x 5 columns]"
            ]
          },
          "metadata": {
            "tags": []
          },
          "execution_count": 32
        }
      ]
    },
    {
      "cell_type": "code",
      "metadata": {
        "colab": {
          "base_uri": "https://localhost:8080/"
        },
        "id": "m2_1nzqNPkhd",
        "outputId": "0323f31f-39d5-43a1-d28e-c4cbdd46a861"
      },
      "source": [
        "df.shape"
      ],
      "execution_count": 33,
      "outputs": [
        {
          "output_type": "execute_result",
          "data": {
            "text/plain": [
              "(20800, 5)"
            ]
          },
          "metadata": {
            "tags": []
          },
          "execution_count": 33
        }
      ]
    },
    {
      "cell_type": "markdown",
      "metadata": {
        "id": "sYuo_XxOLum2"
      },
      "source": [
        "**<h3> Analysing the Train set**"
      ]
    },
    {
      "cell_type": "code",
      "metadata": {
        "colab": {
          "base_uri": "https://localhost:8080/"
        },
        "id": "fg3MERUELx-V",
        "outputId": "25bf741e-bf28-410c-e277-fc7c094aee58"
      },
      "source": [
        "df.info()"
      ],
      "execution_count": 34,
      "outputs": [
        {
          "output_type": "stream",
          "text": [
            "<class 'pandas.core.frame.DataFrame'>\n",
            "RangeIndex: 20800 entries, 0 to 20799\n",
            "Data columns (total 5 columns):\n",
            " #   Column  Non-Null Count  Dtype \n",
            "---  ------  --------------  ----- \n",
            " 0   id      20800 non-null  int64 \n",
            " 1   title   20242 non-null  object\n",
            " 2   author  18843 non-null  object\n",
            " 3   text    20761 non-null  object\n",
            " 4   label   20800 non-null  int64 \n",
            "dtypes: int64(2), object(3)\n",
            "memory usage: 812.6+ KB\n"
          ],
          "name": "stdout"
        }
      ]
    },
    {
      "cell_type": "code",
      "metadata": {
        "colab": {
          "base_uri": "https://localhost:8080/"
        },
        "id": "4rlr7TE2LzmR",
        "outputId": "5b374aa2-aaeb-4c25-fcd4-d670ec3da190"
      },
      "source": [
        "df.dtypes"
      ],
      "execution_count": 35,
      "outputs": [
        {
          "output_type": "execute_result",
          "data": {
            "text/plain": [
              "id         int64\n",
              "title     object\n",
              "author    object\n",
              "text      object\n",
              "label      int64\n",
              "dtype: object"
            ]
          },
          "metadata": {
            "tags": []
          },
          "execution_count": 35
        }
      ]
    },
    {
      "cell_type": "code",
      "metadata": {
        "colab": {
          "base_uri": "https://localhost:8080/"
        },
        "id": "AKPfYpeXL2fY",
        "outputId": "d6b34140-507b-4355-aefe-0eb207445ac9"
      },
      "source": [
        "df.columns"
      ],
      "execution_count": 36,
      "outputs": [
        {
          "output_type": "execute_result",
          "data": {
            "text/plain": [
              "Index(['id', 'title', 'author', 'text', 'label'], dtype='object')"
            ]
          },
          "metadata": {
            "tags": []
          },
          "execution_count": 36
        }
      ]
    },
    {
      "cell_type": "code",
      "metadata": {
        "id": "-fbzTCIdQ6fy"
      },
      "source": [
        "#Getting the Independent Features\n",
        "X=df.drop('label',axis=1)"
      ],
      "execution_count": 37,
      "outputs": []
    },
    {
      "cell_type": "code",
      "metadata": {
        "colab": {
          "base_uri": "https://localhost:8080/",
          "height": 258
        },
        "id": "QurkT-DJRHD1",
        "outputId": "7612a155-91b0-4e8c-8ea6-81a6a14b8c4e"
      },
      "source": [
        "X.head()"
      ],
      "execution_count": 38,
      "outputs": [
        {
          "output_type": "execute_result",
          "data": {
            "text/html": [
              "<div>\n",
              "<style scoped>\n",
              "    .dataframe tbody tr th:only-of-type {\n",
              "        vertical-align: middle;\n",
              "    }\n",
              "\n",
              "    .dataframe tbody tr th {\n",
              "        vertical-align: top;\n",
              "    }\n",
              "\n",
              "    .dataframe thead th {\n",
              "        text-align: right;\n",
              "    }\n",
              "</style>\n",
              "<table border=\"1\" class=\"dataframe\">\n",
              "  <thead>\n",
              "    <tr style=\"text-align: right;\">\n",
              "      <th></th>\n",
              "      <th>id</th>\n",
              "      <th>title</th>\n",
              "      <th>author</th>\n",
              "      <th>text</th>\n",
              "    </tr>\n",
              "  </thead>\n",
              "  <tbody>\n",
              "    <tr>\n",
              "      <th>0</th>\n",
              "      <td>0</td>\n",
              "      <td>House Dem Aide: We Didn’t Even See Comey’s Let...</td>\n",
              "      <td>Darrell Lucus</td>\n",
              "      <td>House Dem Aide: We Didn’t Even See Comey’s Let...</td>\n",
              "    </tr>\n",
              "    <tr>\n",
              "      <th>1</th>\n",
              "      <td>1</td>\n",
              "      <td>FLYNN: Hillary Clinton, Big Woman on Campus - ...</td>\n",
              "      <td>Daniel J. Flynn</td>\n",
              "      <td>Ever get the feeling your life circles the rou...</td>\n",
              "    </tr>\n",
              "    <tr>\n",
              "      <th>2</th>\n",
              "      <td>2</td>\n",
              "      <td>Why the Truth Might Get You Fired</td>\n",
              "      <td>Consortiumnews.com</td>\n",
              "      <td>Why the Truth Might Get You Fired October 29, ...</td>\n",
              "    </tr>\n",
              "    <tr>\n",
              "      <th>3</th>\n",
              "      <td>3</td>\n",
              "      <td>15 Civilians Killed In Single US Airstrike Hav...</td>\n",
              "      <td>Jessica Purkiss</td>\n",
              "      <td>Videos 15 Civilians Killed In Single US Airstr...</td>\n",
              "    </tr>\n",
              "    <tr>\n",
              "      <th>4</th>\n",
              "      <td>4</td>\n",
              "      <td>Iranian woman jailed for fictional unpublished...</td>\n",
              "      <td>Howard Portnoy</td>\n",
              "      <td>Print \\nAn Iranian woman has been sentenced to...</td>\n",
              "    </tr>\n",
              "  </tbody>\n",
              "</table>\n",
              "</div>"
            ],
            "text/plain": [
              "   id  ...                                               text\n",
              "0   0  ...  House Dem Aide: We Didn’t Even See Comey’s Let...\n",
              "1   1  ...  Ever get the feeling your life circles the rou...\n",
              "2   2  ...  Why the Truth Might Get You Fired October 29, ...\n",
              "3   3  ...  Videos 15 Civilians Killed In Single US Airstr...\n",
              "4   4  ...  Print \\nAn Iranian woman has been sentenced to...\n",
              "\n",
              "[5 rows x 4 columns]"
            ]
          },
          "metadata": {
            "tags": []
          },
          "execution_count": 38
        }
      ]
    },
    {
      "cell_type": "code",
      "metadata": {
        "id": "ZrTvib02ROXk"
      },
      "source": [
        "Y=df['label']"
      ],
      "execution_count": 39,
      "outputs": []
    },
    {
      "cell_type": "code",
      "metadata": {
        "colab": {
          "base_uri": "https://localhost:8080/"
        },
        "id": "K4_1roPdRQ_7",
        "outputId": "fdfc5fd6-656b-4d66-d98f-a7adbb2794af"
      },
      "source": [
        "Y.head()"
      ],
      "execution_count": 40,
      "outputs": [
        {
          "output_type": "execute_result",
          "data": {
            "text/plain": [
              "0    1\n",
              "1    0\n",
              "2    1\n",
              "3    1\n",
              "4    1\n",
              "Name: label, dtype: int64"
            ]
          },
          "metadata": {
            "tags": []
          },
          "execution_count": 40
        }
      ]
    },
    {
      "cell_type": "code",
      "metadata": {
        "colab": {
          "base_uri": "https://localhost:8080/"
        },
        "id": "UFmW8Oa1ZU6i",
        "outputId": "879a008f-e85c-4336-9e71-4689a863bb09"
      },
      "source": [
        "df.isna().sum"
      ],
      "execution_count": 41,
      "outputs": [
        {
          "output_type": "execute_result",
          "data": {
            "text/plain": [
              "<bound method DataFrame.sum of           id  title  author   text  label\n",
              "0      False  False   False  False  False\n",
              "1      False  False   False  False  False\n",
              "2      False  False   False  False  False\n",
              "3      False  False   False  False  False\n",
              "4      False  False   False  False  False\n",
              "...      ...    ...     ...    ...    ...\n",
              "20795  False  False   False  False  False\n",
              "20796  False  False   False  False  False\n",
              "20797  False  False   False  False  False\n",
              "20798  False  False   False  False  False\n",
              "20799  False  False   False  False  False\n",
              "\n",
              "[20800 rows x 5 columns]>"
            ]
          },
          "metadata": {
            "tags": []
          },
          "execution_count": 41
        }
      ]
    },
    {
      "cell_type": "code",
      "metadata": {
        "id": "Pg6-N6tIRVA8"
      },
      "source": [
        "df=df.dropna()"
      ],
      "execution_count": 42,
      "outputs": []
    },
    {
      "cell_type": "code",
      "metadata": {
        "colab": {
          "base_uri": "https://localhost:8080/"
        },
        "id": "6LJ-bv5EZan8",
        "outputId": "c313e191-e4fb-4679-e07d-b2368626d4f4"
      },
      "source": [
        "df.shape"
      ],
      "execution_count": 43,
      "outputs": [
        {
          "output_type": "execute_result",
          "data": {
            "text/plain": [
              "(18285, 5)"
            ]
          },
          "metadata": {
            "tags": []
          },
          "execution_count": 43
        }
      ]
    },
    {
      "cell_type": "code",
      "metadata": {
        "id": "vfqtitTIZd0Q"
      },
      "source": [
        "messages=df.copy()"
      ],
      "execution_count": 44,
      "outputs": []
    },
    {
      "cell_type": "code",
      "metadata": {
        "id": "6AWZXu_WZi-g"
      },
      "source": [
        "messages.reset_index(inplace=True)"
      ],
      "execution_count": 45,
      "outputs": []
    },
    {
      "cell_type": "code",
      "metadata": {
        "colab": {
          "base_uri": "https://localhost:8080/",
          "height": 293
        },
        "id": "9V-d0BtkZobX",
        "outputId": "643cdd25-ec9e-40a1-dfe3-201697dedc30"
      },
      "source": [
        "messages.head()"
      ],
      "execution_count": 46,
      "outputs": [
        {
          "output_type": "execute_result",
          "data": {
            "text/html": [
              "<div>\n",
              "<style scoped>\n",
              "    .dataframe tbody tr th:only-of-type {\n",
              "        vertical-align: middle;\n",
              "    }\n",
              "\n",
              "    .dataframe tbody tr th {\n",
              "        vertical-align: top;\n",
              "    }\n",
              "\n",
              "    .dataframe thead th {\n",
              "        text-align: right;\n",
              "    }\n",
              "</style>\n",
              "<table border=\"1\" class=\"dataframe\">\n",
              "  <thead>\n",
              "    <tr style=\"text-align: right;\">\n",
              "      <th></th>\n",
              "      <th>index</th>\n",
              "      <th>id</th>\n",
              "      <th>title</th>\n",
              "      <th>author</th>\n",
              "      <th>text</th>\n",
              "      <th>label</th>\n",
              "    </tr>\n",
              "  </thead>\n",
              "  <tbody>\n",
              "    <tr>\n",
              "      <th>0</th>\n",
              "      <td>0</td>\n",
              "      <td>0</td>\n",
              "      <td>House Dem Aide: We Didn’t Even See Comey’s Let...</td>\n",
              "      <td>Darrell Lucus</td>\n",
              "      <td>House Dem Aide: We Didn’t Even See Comey’s Let...</td>\n",
              "      <td>1</td>\n",
              "    </tr>\n",
              "    <tr>\n",
              "      <th>1</th>\n",
              "      <td>1</td>\n",
              "      <td>1</td>\n",
              "      <td>FLYNN: Hillary Clinton, Big Woman on Campus - ...</td>\n",
              "      <td>Daniel J. Flynn</td>\n",
              "      <td>Ever get the feeling your life circles the rou...</td>\n",
              "      <td>0</td>\n",
              "    </tr>\n",
              "    <tr>\n",
              "      <th>2</th>\n",
              "      <td>2</td>\n",
              "      <td>2</td>\n",
              "      <td>Why the Truth Might Get You Fired</td>\n",
              "      <td>Consortiumnews.com</td>\n",
              "      <td>Why the Truth Might Get You Fired October 29, ...</td>\n",
              "      <td>1</td>\n",
              "    </tr>\n",
              "    <tr>\n",
              "      <th>3</th>\n",
              "      <td>3</td>\n",
              "      <td>3</td>\n",
              "      <td>15 Civilians Killed In Single US Airstrike Hav...</td>\n",
              "      <td>Jessica Purkiss</td>\n",
              "      <td>Videos 15 Civilians Killed In Single US Airstr...</td>\n",
              "      <td>1</td>\n",
              "    </tr>\n",
              "    <tr>\n",
              "      <th>4</th>\n",
              "      <td>4</td>\n",
              "      <td>4</td>\n",
              "      <td>Iranian woman jailed for fictional unpublished...</td>\n",
              "      <td>Howard Portnoy</td>\n",
              "      <td>Print \\nAn Iranian woman has been sentenced to...</td>\n",
              "      <td>1</td>\n",
              "    </tr>\n",
              "  </tbody>\n",
              "</table>\n",
              "</div>"
            ],
            "text/plain": [
              "   index  id  ...                                               text label\n",
              "0      0   0  ...  House Dem Aide: We Didn’t Even See Comey’s Let...     1\n",
              "1      1   1  ...  Ever get the feeling your life circles the rou...     0\n",
              "2      2   2  ...  Why the Truth Might Get You Fired October 29, ...     1\n",
              "3      3   3  ...  Videos 15 Civilians Killed In Single US Airstr...     1\n",
              "4      4   4  ...  Print \\nAn Iranian woman has been sentenced to...     1\n",
              "\n",
              "[5 rows x 6 columns]"
            ]
          },
          "metadata": {
            "tags": []
          },
          "execution_count": 46
        }
      ]
    },
    {
      "cell_type": "markdown",
      "metadata": {
        "id": "fDBdZe2_aFpk"
      },
      "source": [
        "**<h3> Formatting the texts**"
      ]
    },
    {
      "cell_type": "code",
      "metadata": {
        "colab": {
          "base_uri": "https://localhost:8080/"
        },
        "id": "7f3_pKcpaTHd",
        "outputId": "c6e5a865-72c9-45e9-8b0c-eaa12361bb6c"
      },
      "source": [
        "import nltk\n",
        "nltk.download('popular')"
      ],
      "execution_count": 47,
      "outputs": [
        {
          "output_type": "stream",
          "text": [
            "[nltk_data] Downloading collection 'popular'\n",
            "[nltk_data]    | \n",
            "[nltk_data]    | Downloading package cmudict to /root/nltk_data...\n",
            "[nltk_data]    |   Package cmudict is already up-to-date!\n",
            "[nltk_data]    | Downloading package gazetteers to /root/nltk_data...\n",
            "[nltk_data]    |   Package gazetteers is already up-to-date!\n",
            "[nltk_data]    | Downloading package genesis to /root/nltk_data...\n",
            "[nltk_data]    |   Package genesis is already up-to-date!\n",
            "[nltk_data]    | Downloading package gutenberg to /root/nltk_data...\n",
            "[nltk_data]    |   Package gutenberg is already up-to-date!\n",
            "[nltk_data]    | Downloading package inaugural to /root/nltk_data...\n",
            "[nltk_data]    |   Package inaugural is already up-to-date!\n",
            "[nltk_data]    | Downloading package movie_reviews to\n",
            "[nltk_data]    |     /root/nltk_data...\n",
            "[nltk_data]    |   Package movie_reviews is already up-to-date!\n",
            "[nltk_data]    | Downloading package names to /root/nltk_data...\n",
            "[nltk_data]    |   Package names is already up-to-date!\n",
            "[nltk_data]    | Downloading package shakespeare to /root/nltk_data...\n",
            "[nltk_data]    |   Package shakespeare is already up-to-date!\n",
            "[nltk_data]    | Downloading package stopwords to /root/nltk_data...\n",
            "[nltk_data]    |   Package stopwords is already up-to-date!\n",
            "[nltk_data]    | Downloading package treebank to /root/nltk_data...\n",
            "[nltk_data]    |   Package treebank is already up-to-date!\n",
            "[nltk_data]    | Downloading package twitter_samples to\n",
            "[nltk_data]    |     /root/nltk_data...\n",
            "[nltk_data]    |   Package twitter_samples is already up-to-date!\n",
            "[nltk_data]    | Downloading package omw to /root/nltk_data...\n",
            "[nltk_data]    |   Package omw is already up-to-date!\n",
            "[nltk_data]    | Downloading package wordnet to /root/nltk_data...\n",
            "[nltk_data]    |   Package wordnet is already up-to-date!\n",
            "[nltk_data]    | Downloading package wordnet_ic to /root/nltk_data...\n",
            "[nltk_data]    |   Package wordnet_ic is already up-to-date!\n",
            "[nltk_data]    | Downloading package words to /root/nltk_data...\n",
            "[nltk_data]    |   Package words is already up-to-date!\n",
            "[nltk_data]    | Downloading package maxent_ne_chunker to\n",
            "[nltk_data]    |     /root/nltk_data...\n",
            "[nltk_data]    |   Package maxent_ne_chunker is already up-to-date!\n",
            "[nltk_data]    | Downloading package punkt to /root/nltk_data...\n",
            "[nltk_data]    |   Package punkt is already up-to-date!\n",
            "[nltk_data]    | Downloading package snowball_data to\n",
            "[nltk_data]    |     /root/nltk_data...\n",
            "[nltk_data]    |   Package snowball_data is already up-to-date!\n",
            "[nltk_data]    | Downloading package averaged_perceptron_tagger to\n",
            "[nltk_data]    |     /root/nltk_data...\n",
            "[nltk_data]    |   Package averaged_perceptron_tagger is already up-\n",
            "[nltk_data]    |       to-date!\n",
            "[nltk_data]    | \n",
            "[nltk_data]  Done downloading collection popular\n"
          ],
          "name": "stdout"
        },
        {
          "output_type": "execute_result",
          "data": {
            "text/plain": [
              "True"
            ]
          },
          "metadata": {
            "tags": []
          },
          "execution_count": 47
        }
      ]
    },
    {
      "cell_type": "code",
      "metadata": {
        "id": "APJTpn0JaK9r"
      },
      "source": [
        "from nltk.corpus import stopwords\n",
        "from nltk.stem.porter import PorterStemmer\n",
        "import re\n",
        "ps = PorterStemmer()\n",
        "corpus = []\n",
        "for i in range(0, len(messages)):\n",
        "    review = re.sub('[^a-zA-Z]', ' ', messages['title'][i])\n",
        "    review = review.lower()\n",
        "    review = review.split()\n",
        "    \n",
        "    review = [ps.stem(word) for word in review if not word in stopwords.words('english')]\n",
        "    review = ' '.join(review)\n",
        "    corpus.append(review)\n"
      ],
      "execution_count": 48,
      "outputs": []
    },
    {
      "cell_type": "code",
      "metadata": {
        "id": "FFcR-0-Fbdmp"
      },
      "source": [
        "## Applying Countvectorizer\n",
        "# Creating the Bag of Words model\n",
        "from sklearn.feature_extraction.text import CountVectorizer\n",
        "cv = CountVectorizer(max_features=5000,ngram_range=(1,3))\n",
        "X = cv.fit_transform(corpus).toarray()\n"
      ],
      "execution_count": 49,
      "outputs": []
    },
    {
      "cell_type": "code",
      "metadata": {
        "colab": {
          "base_uri": "https://localhost:8080/"
        },
        "id": "2md8u-2cbkJn",
        "outputId": "0b951da2-549a-4f67-c487-4664072285a1"
      },
      "source": [
        "X"
      ],
      "execution_count": 50,
      "outputs": [
        {
          "output_type": "execute_result",
          "data": {
            "text/plain": [
              "array([[0, 0, 0, ..., 0, 0, 0],\n",
              "       [0, 0, 0, ..., 0, 0, 0],\n",
              "       [0, 0, 0, ..., 0, 0, 0],\n",
              "       ...,\n",
              "       [0, 0, 0, ..., 0, 0, 0],\n",
              "       [0, 0, 0, ..., 0, 0, 0],\n",
              "       [0, 0, 0, ..., 0, 0, 0]])"
            ]
          },
          "metadata": {
            "tags": []
          },
          "execution_count": 50
        }
      ]
    },
    {
      "cell_type": "code",
      "metadata": {
        "id": "71o6IetMbmYH"
      },
      "source": [
        "y=messages['label']"
      ],
      "execution_count": 51,
      "outputs": []
    },
    {
      "cell_type": "code",
      "metadata": {
        "id": "tpZNhV1QbsPv"
      },
      "source": [
        "## Divide the dataset into Train and Test\n",
        "from sklearn.model_selection import train_test_split\n",
        "X_train, X_test, y_train, y_test = train_test_split(X, y, test_size=0.33, random_state=0)"
      ],
      "execution_count": 52,
      "outputs": []
    },
    {
      "cell_type": "code",
      "metadata": {
        "id": "rOY9M9UKbxWb"
      },
      "source": [
        "count_df = pd.DataFrame(X_train, columns=cv.get_feature_names())"
      ],
      "execution_count": 53,
      "outputs": []
    },
    {
      "cell_type": "code",
      "metadata": {
        "colab": {
          "base_uri": "https://localhost:8080/",
          "height": 290
        },
        "id": "SGgGGAxKb5_d",
        "outputId": "b0b28380-ccf1-45f2-d24c-4585730e0af3"
      },
      "source": [
        "count_df.head()"
      ],
      "execution_count": 54,
      "outputs": [
        {
          "output_type": "execute_result",
          "data": {
            "text/html": [
              "<div>\n",
              "<style scoped>\n",
              "    .dataframe tbody tr th:only-of-type {\n",
              "        vertical-align: middle;\n",
              "    }\n",
              "\n",
              "    .dataframe tbody tr th {\n",
              "        vertical-align: top;\n",
              "    }\n",
              "\n",
              "    .dataframe thead th {\n",
              "        text-align: right;\n",
              "    }\n",
              "</style>\n",
              "<table border=\"1\" class=\"dataframe\">\n",
              "  <thead>\n",
              "    <tr style=\"text-align: right;\">\n",
              "      <th></th>\n",
              "      <th>abandon</th>\n",
              "      <th>abc</th>\n",
              "      <th>abc news</th>\n",
              "      <th>abduct</th>\n",
              "      <th>abe</th>\n",
              "      <th>abedin</th>\n",
              "      <th>abl</th>\n",
              "      <th>abort</th>\n",
              "      <th>abroad</th>\n",
              "      <th>absolut</th>\n",
              "      <th>abstain</th>\n",
              "      <th>absurd</th>\n",
              "      <th>abus</th>\n",
              "      <th>abus new</th>\n",
              "      <th>abus new york</th>\n",
              "      <th>academi</th>\n",
              "      <th>accept</th>\n",
              "      <th>access</th>\n",
              "      <th>access pipelin</th>\n",
              "      <th>access pipelin protest</th>\n",
              "      <th>accid</th>\n",
              "      <th>accident</th>\n",
              "      <th>accord</th>\n",
              "      <th>account</th>\n",
              "      <th>accus</th>\n",
              "      <th>accus trump</th>\n",
              "      <th>achiev</th>\n",
              "      <th>acknowledg</th>\n",
              "      <th>acknowledg emf</th>\n",
              "      <th>acknowledg emf damag</th>\n",
              "      <th>aclu</th>\n",
              "      <th>acquit</th>\n",
              "      <th>acquitt</th>\n",
              "      <th>acr</th>\n",
              "      <th>across</th>\n",
              "      <th>act</th>\n",
              "      <th>act like</th>\n",
              "      <th>act new</th>\n",
              "      <th>act new york</th>\n",
              "      <th>action</th>\n",
              "      <th>...</th>\n",
              "      <th>yahoo</th>\n",
              "      <th>yale</th>\n",
              "      <th>ye</th>\n",
              "      <th>year</th>\n",
              "      <th>year ago</th>\n",
              "      <th>year breitbart</th>\n",
              "      <th>year eve</th>\n",
              "      <th>year later</th>\n",
              "      <th>year new</th>\n",
              "      <th>year new york</th>\n",
              "      <th>year old</th>\n",
              "      <th>year old girl</th>\n",
              "      <th>year sinc</th>\n",
              "      <th>yemen</th>\n",
              "      <th>yet</th>\n",
              "      <th>yet anoth</th>\n",
              "      <th>yiannopoulo</th>\n",
              "      <th>yield</th>\n",
              "      <th>yo</th>\n",
              "      <th>york</th>\n",
              "      <th>york citi</th>\n",
              "      <th>york new</th>\n",
              "      <th>york new york</th>\n",
              "      <th>york state</th>\n",
              "      <th>york time</th>\n",
              "      <th>yorker</th>\n",
              "      <th>young</th>\n",
              "      <th>youth</th>\n",
              "      <th>youtub</th>\n",
              "      <th>zealand</th>\n",
              "      <th>zero</th>\n",
              "      <th>zika</th>\n",
              "      <th>zika viru</th>\n",
              "      <th>zionist</th>\n",
              "      <th>zone</th>\n",
              "      <th>zone new</th>\n",
              "      <th>zone new york</th>\n",
              "      <th>zoo</th>\n",
              "      <th>zu</th>\n",
              "      <th>zuckerberg</th>\n",
              "    </tr>\n",
              "  </thead>\n",
              "  <tbody>\n",
              "    <tr>\n",
              "      <th>0</th>\n",
              "      <td>0</td>\n",
              "      <td>0</td>\n",
              "      <td>0</td>\n",
              "      <td>0</td>\n",
              "      <td>0</td>\n",
              "      <td>0</td>\n",
              "      <td>0</td>\n",
              "      <td>0</td>\n",
              "      <td>0</td>\n",
              "      <td>0</td>\n",
              "      <td>0</td>\n",
              "      <td>0</td>\n",
              "      <td>0</td>\n",
              "      <td>0</td>\n",
              "      <td>0</td>\n",
              "      <td>0</td>\n",
              "      <td>0</td>\n",
              "      <td>0</td>\n",
              "      <td>0</td>\n",
              "      <td>0</td>\n",
              "      <td>0</td>\n",
              "      <td>0</td>\n",
              "      <td>0</td>\n",
              "      <td>0</td>\n",
              "      <td>0</td>\n",
              "      <td>0</td>\n",
              "      <td>0</td>\n",
              "      <td>0</td>\n",
              "      <td>0</td>\n",
              "      <td>0</td>\n",
              "      <td>0</td>\n",
              "      <td>0</td>\n",
              "      <td>0</td>\n",
              "      <td>0</td>\n",
              "      <td>0</td>\n",
              "      <td>0</td>\n",
              "      <td>0</td>\n",
              "      <td>0</td>\n",
              "      <td>0</td>\n",
              "      <td>0</td>\n",
              "      <td>...</td>\n",
              "      <td>0</td>\n",
              "      <td>0</td>\n",
              "      <td>0</td>\n",
              "      <td>0</td>\n",
              "      <td>0</td>\n",
              "      <td>0</td>\n",
              "      <td>0</td>\n",
              "      <td>0</td>\n",
              "      <td>0</td>\n",
              "      <td>0</td>\n",
              "      <td>0</td>\n",
              "      <td>0</td>\n",
              "      <td>0</td>\n",
              "      <td>0</td>\n",
              "      <td>0</td>\n",
              "      <td>0</td>\n",
              "      <td>0</td>\n",
              "      <td>0</td>\n",
              "      <td>0</td>\n",
              "      <td>0</td>\n",
              "      <td>0</td>\n",
              "      <td>0</td>\n",
              "      <td>0</td>\n",
              "      <td>0</td>\n",
              "      <td>0</td>\n",
              "      <td>0</td>\n",
              "      <td>1</td>\n",
              "      <td>0</td>\n",
              "      <td>0</td>\n",
              "      <td>0</td>\n",
              "      <td>0</td>\n",
              "      <td>0</td>\n",
              "      <td>0</td>\n",
              "      <td>0</td>\n",
              "      <td>0</td>\n",
              "      <td>0</td>\n",
              "      <td>0</td>\n",
              "      <td>0</td>\n",
              "      <td>0</td>\n",
              "      <td>0</td>\n",
              "    </tr>\n",
              "    <tr>\n",
              "      <th>1</th>\n",
              "      <td>0</td>\n",
              "      <td>0</td>\n",
              "      <td>0</td>\n",
              "      <td>0</td>\n",
              "      <td>0</td>\n",
              "      <td>0</td>\n",
              "      <td>0</td>\n",
              "      <td>0</td>\n",
              "      <td>0</td>\n",
              "      <td>0</td>\n",
              "      <td>0</td>\n",
              "      <td>0</td>\n",
              "      <td>0</td>\n",
              "      <td>0</td>\n",
              "      <td>0</td>\n",
              "      <td>0</td>\n",
              "      <td>0</td>\n",
              "      <td>0</td>\n",
              "      <td>0</td>\n",
              "      <td>0</td>\n",
              "      <td>0</td>\n",
              "      <td>0</td>\n",
              "      <td>0</td>\n",
              "      <td>0</td>\n",
              "      <td>0</td>\n",
              "      <td>0</td>\n",
              "      <td>0</td>\n",
              "      <td>0</td>\n",
              "      <td>0</td>\n",
              "      <td>0</td>\n",
              "      <td>0</td>\n",
              "      <td>0</td>\n",
              "      <td>0</td>\n",
              "      <td>0</td>\n",
              "      <td>0</td>\n",
              "      <td>0</td>\n",
              "      <td>0</td>\n",
              "      <td>0</td>\n",
              "      <td>0</td>\n",
              "      <td>0</td>\n",
              "      <td>...</td>\n",
              "      <td>0</td>\n",
              "      <td>0</td>\n",
              "      <td>0</td>\n",
              "      <td>0</td>\n",
              "      <td>0</td>\n",
              "      <td>0</td>\n",
              "      <td>0</td>\n",
              "      <td>0</td>\n",
              "      <td>0</td>\n",
              "      <td>0</td>\n",
              "      <td>0</td>\n",
              "      <td>0</td>\n",
              "      <td>0</td>\n",
              "      <td>0</td>\n",
              "      <td>0</td>\n",
              "      <td>0</td>\n",
              "      <td>0</td>\n",
              "      <td>1</td>\n",
              "      <td>0</td>\n",
              "      <td>0</td>\n",
              "      <td>0</td>\n",
              "      <td>0</td>\n",
              "      <td>0</td>\n",
              "      <td>0</td>\n",
              "      <td>0</td>\n",
              "      <td>0</td>\n",
              "      <td>0</td>\n",
              "      <td>0</td>\n",
              "      <td>0</td>\n",
              "      <td>0</td>\n",
              "      <td>0</td>\n",
              "      <td>0</td>\n",
              "      <td>0</td>\n",
              "      <td>0</td>\n",
              "      <td>0</td>\n",
              "      <td>0</td>\n",
              "      <td>0</td>\n",
              "      <td>0</td>\n",
              "      <td>0</td>\n",
              "      <td>0</td>\n",
              "    </tr>\n",
              "    <tr>\n",
              "      <th>2</th>\n",
              "      <td>0</td>\n",
              "      <td>0</td>\n",
              "      <td>0</td>\n",
              "      <td>0</td>\n",
              "      <td>0</td>\n",
              "      <td>0</td>\n",
              "      <td>0</td>\n",
              "      <td>0</td>\n",
              "      <td>0</td>\n",
              "      <td>0</td>\n",
              "      <td>0</td>\n",
              "      <td>0</td>\n",
              "      <td>0</td>\n",
              "      <td>0</td>\n",
              "      <td>0</td>\n",
              "      <td>0</td>\n",
              "      <td>0</td>\n",
              "      <td>0</td>\n",
              "      <td>0</td>\n",
              "      <td>0</td>\n",
              "      <td>0</td>\n",
              "      <td>0</td>\n",
              "      <td>0</td>\n",
              "      <td>0</td>\n",
              "      <td>0</td>\n",
              "      <td>0</td>\n",
              "      <td>0</td>\n",
              "      <td>0</td>\n",
              "      <td>0</td>\n",
              "      <td>0</td>\n",
              "      <td>0</td>\n",
              "      <td>0</td>\n",
              "      <td>0</td>\n",
              "      <td>0</td>\n",
              "      <td>0</td>\n",
              "      <td>0</td>\n",
              "      <td>0</td>\n",
              "      <td>0</td>\n",
              "      <td>0</td>\n",
              "      <td>0</td>\n",
              "      <td>...</td>\n",
              "      <td>0</td>\n",
              "      <td>0</td>\n",
              "      <td>0</td>\n",
              "      <td>0</td>\n",
              "      <td>0</td>\n",
              "      <td>0</td>\n",
              "      <td>0</td>\n",
              "      <td>0</td>\n",
              "      <td>0</td>\n",
              "      <td>0</td>\n",
              "      <td>0</td>\n",
              "      <td>0</td>\n",
              "      <td>0</td>\n",
              "      <td>0</td>\n",
              "      <td>0</td>\n",
              "      <td>0</td>\n",
              "      <td>0</td>\n",
              "      <td>0</td>\n",
              "      <td>0</td>\n",
              "      <td>1</td>\n",
              "      <td>0</td>\n",
              "      <td>0</td>\n",
              "      <td>0</td>\n",
              "      <td>0</td>\n",
              "      <td>1</td>\n",
              "      <td>0</td>\n",
              "      <td>0</td>\n",
              "      <td>0</td>\n",
              "      <td>0</td>\n",
              "      <td>0</td>\n",
              "      <td>0</td>\n",
              "      <td>0</td>\n",
              "      <td>0</td>\n",
              "      <td>0</td>\n",
              "      <td>0</td>\n",
              "      <td>0</td>\n",
              "      <td>0</td>\n",
              "      <td>0</td>\n",
              "      <td>0</td>\n",
              "      <td>0</td>\n",
              "    </tr>\n",
              "    <tr>\n",
              "      <th>3</th>\n",
              "      <td>0</td>\n",
              "      <td>0</td>\n",
              "      <td>0</td>\n",
              "      <td>0</td>\n",
              "      <td>0</td>\n",
              "      <td>0</td>\n",
              "      <td>0</td>\n",
              "      <td>0</td>\n",
              "      <td>0</td>\n",
              "      <td>0</td>\n",
              "      <td>0</td>\n",
              "      <td>0</td>\n",
              "      <td>0</td>\n",
              "      <td>0</td>\n",
              "      <td>0</td>\n",
              "      <td>0</td>\n",
              "      <td>0</td>\n",
              "      <td>0</td>\n",
              "      <td>0</td>\n",
              "      <td>0</td>\n",
              "      <td>0</td>\n",
              "      <td>0</td>\n",
              "      <td>0</td>\n",
              "      <td>0</td>\n",
              "      <td>0</td>\n",
              "      <td>0</td>\n",
              "      <td>0</td>\n",
              "      <td>0</td>\n",
              "      <td>0</td>\n",
              "      <td>0</td>\n",
              "      <td>0</td>\n",
              "      <td>0</td>\n",
              "      <td>0</td>\n",
              "      <td>0</td>\n",
              "      <td>0</td>\n",
              "      <td>0</td>\n",
              "      <td>0</td>\n",
              "      <td>0</td>\n",
              "      <td>0</td>\n",
              "      <td>0</td>\n",
              "      <td>...</td>\n",
              "      <td>0</td>\n",
              "      <td>0</td>\n",
              "      <td>0</td>\n",
              "      <td>0</td>\n",
              "      <td>0</td>\n",
              "      <td>0</td>\n",
              "      <td>0</td>\n",
              "      <td>0</td>\n",
              "      <td>0</td>\n",
              "      <td>0</td>\n",
              "      <td>0</td>\n",
              "      <td>0</td>\n",
              "      <td>0</td>\n",
              "      <td>0</td>\n",
              "      <td>0</td>\n",
              "      <td>0</td>\n",
              "      <td>0</td>\n",
              "      <td>0</td>\n",
              "      <td>0</td>\n",
              "      <td>0</td>\n",
              "      <td>0</td>\n",
              "      <td>0</td>\n",
              "      <td>0</td>\n",
              "      <td>0</td>\n",
              "      <td>0</td>\n",
              "      <td>0</td>\n",
              "      <td>0</td>\n",
              "      <td>0</td>\n",
              "      <td>0</td>\n",
              "      <td>0</td>\n",
              "      <td>0</td>\n",
              "      <td>0</td>\n",
              "      <td>0</td>\n",
              "      <td>0</td>\n",
              "      <td>0</td>\n",
              "      <td>0</td>\n",
              "      <td>0</td>\n",
              "      <td>0</td>\n",
              "      <td>0</td>\n",
              "      <td>0</td>\n",
              "    </tr>\n",
              "    <tr>\n",
              "      <th>4</th>\n",
              "      <td>0</td>\n",
              "      <td>0</td>\n",
              "      <td>0</td>\n",
              "      <td>0</td>\n",
              "      <td>0</td>\n",
              "      <td>0</td>\n",
              "      <td>0</td>\n",
              "      <td>0</td>\n",
              "      <td>0</td>\n",
              "      <td>1</td>\n",
              "      <td>0</td>\n",
              "      <td>0</td>\n",
              "      <td>0</td>\n",
              "      <td>0</td>\n",
              "      <td>0</td>\n",
              "      <td>0</td>\n",
              "      <td>0</td>\n",
              "      <td>0</td>\n",
              "      <td>0</td>\n",
              "      <td>0</td>\n",
              "      <td>0</td>\n",
              "      <td>0</td>\n",
              "      <td>0</td>\n",
              "      <td>0</td>\n",
              "      <td>0</td>\n",
              "      <td>0</td>\n",
              "      <td>0</td>\n",
              "      <td>0</td>\n",
              "      <td>0</td>\n",
              "      <td>0</td>\n",
              "      <td>0</td>\n",
              "      <td>0</td>\n",
              "      <td>0</td>\n",
              "      <td>0</td>\n",
              "      <td>0</td>\n",
              "      <td>0</td>\n",
              "      <td>0</td>\n",
              "      <td>0</td>\n",
              "      <td>0</td>\n",
              "      <td>0</td>\n",
              "      <td>...</td>\n",
              "      <td>0</td>\n",
              "      <td>0</td>\n",
              "      <td>0</td>\n",
              "      <td>0</td>\n",
              "      <td>0</td>\n",
              "      <td>0</td>\n",
              "      <td>0</td>\n",
              "      <td>0</td>\n",
              "      <td>0</td>\n",
              "      <td>0</td>\n",
              "      <td>0</td>\n",
              "      <td>0</td>\n",
              "      <td>0</td>\n",
              "      <td>0</td>\n",
              "      <td>0</td>\n",
              "      <td>0</td>\n",
              "      <td>0</td>\n",
              "      <td>0</td>\n",
              "      <td>0</td>\n",
              "      <td>0</td>\n",
              "      <td>0</td>\n",
              "      <td>0</td>\n",
              "      <td>0</td>\n",
              "      <td>0</td>\n",
              "      <td>0</td>\n",
              "      <td>0</td>\n",
              "      <td>0</td>\n",
              "      <td>0</td>\n",
              "      <td>0</td>\n",
              "      <td>0</td>\n",
              "      <td>0</td>\n",
              "      <td>0</td>\n",
              "      <td>0</td>\n",
              "      <td>0</td>\n",
              "      <td>0</td>\n",
              "      <td>0</td>\n",
              "      <td>0</td>\n",
              "      <td>0</td>\n",
              "      <td>0</td>\n",
              "      <td>0</td>\n",
              "    </tr>\n",
              "  </tbody>\n",
              "</table>\n",
              "<p>5 rows × 5000 columns</p>\n",
              "</div>"
            ],
            "text/plain": [
              "   abandon  abc  abc news  abduct  ...  zone new york  zoo  zu  zuckerberg\n",
              "0        0    0         0       0  ...              0    0   0           0\n",
              "1        0    0         0       0  ...              0    0   0           0\n",
              "2        0    0         0       0  ...              0    0   0           0\n",
              "3        0    0         0       0  ...              0    0   0           0\n",
              "4        0    0         0       0  ...              0    0   0           0\n",
              "\n",
              "[5 rows x 5000 columns]"
            ]
          },
          "metadata": {
            "tags": []
          },
          "execution_count": 54
        }
      ]
    },
    {
      "cell_type": "markdown",
      "metadata": {
        "id": "-IfflhGWxzUb"
      },
      "source": [
        "**<h4>Code for Confusion Matrix**"
      ]
    },
    {
      "cell_type": "code",
      "metadata": {
        "id": "WSfn_VV2cCxn"
      },
      "source": [
        "import matplotlib.pyplot as plt"
      ],
      "execution_count": 56,
      "outputs": []
    },
    {
      "cell_type": "code",
      "metadata": {
        "id": "u5W9gGLJx-sA"
      },
      "source": [
        "def plot_confusion_matrix(cm, classes,\n",
        "                          normalize=False,\n",
        "                          title='Confusion matrix',\n",
        "                          cmap=plt.cm.Blues):\n",
        "    plt.imshow(cm, interpolation='nearest', cmap=cmap)\n",
        "    plt.title(title)\n",
        "    plt.colorbar()\n",
        "    tick_marks = np.arange(len(classes))\n",
        "    plt.xticks(tick_marks, classes, rotation=45)\n",
        "    plt.yticks(tick_marks, classes)\n",
        "\n",
        "    if normalize:\n",
        "        cm = cm.astype('float') / cm.sum(axis=1)[:, np.newaxis]\n",
        "        print(\"Normalized confusion matrix\")\n",
        "    else:\n",
        "        print('Confusion matrix, without normalization')\n",
        "\n",
        "    thresh = cm.max() / 2.\n",
        "    for i, j in itertools.product(range(cm.shape[0]), range(cm.shape[1])):\n",
        "        plt.text(j, i, cm[i, j],\n",
        "                 horizontalalignment=\"center\",\n",
        "                 color=\"white\" if cm[i, j] > thresh else \"black\")\n",
        "\n",
        "    plt.tight_layout()\n",
        "    plt.ylabel('True label')\n",
        "    plt.xlabel('Predicted label')"
      ],
      "execution_count": 57,
      "outputs": []
    },
    {
      "cell_type": "markdown",
      "metadata": {
        "id": "HRsCAUD7yNBF"
      },
      "source": [
        "#**Applying ML Models**"
      ]
    },
    {
      "cell_type": "markdown",
      "metadata": {
        "id": "9Vp6o9bqyKOq"
      },
      "source": [
        "**MultinomialNB Algorithm**"
      ]
    },
    {
      "cell_type": "code",
      "metadata": {
        "id": "3PHaZV_myMRc"
      },
      "source": [
        "from sklearn.naive_bayes import MultinomialNB\n",
        "classifier=MultinomialNB()"
      ],
      "execution_count": 58,
      "outputs": []
    },
    {
      "cell_type": "code",
      "metadata": {
        "id": "Vmo9WOv4yrrP"
      },
      "source": [
        "from sklearn import metrics\n",
        "import numpy as np\n",
        "import itertools"
      ],
      "execution_count": 60,
      "outputs": []
    },
    {
      "cell_type": "code",
      "metadata": {
        "colab": {
          "base_uri": "https://localhost:8080/",
          "height": 346
        },
        "id": "-rpekLjFyh4v",
        "outputId": "2c73137e-dad7-4b05-8df8-3f2b025b6f26"
      },
      "source": [
        "classifier.fit(X_train,y_train)\n",
        "pred = classifier.predict(X_test)\n",
        "score = metrics.accuracy_score(y_test, pred)\n",
        "score=score*100\n",
        "score = '{0:.3g}'.format(score)\n",
        "\n",
        "print(\"Accuracy: \", score,\"%\")\n",
        "cm = metrics.confusion_matrix(y_test, pred)\n",
        "plot_confusion_matrix(cm, classes=['FAKE', 'REAL'])\n"
      ],
      "execution_count": 78,
      "outputs": [
        {
          "output_type": "stream",
          "text": [
            "Accuracy:  90.2 %\n",
            "Confusion matrix, without normalization\n"
          ],
          "name": "stdout"
        },
        {
          "output_type": "display_data",
          "data": {
            "image/png": "[encoded data removed]",
            "text/plain": [
              "<Figure size 432x288 with 2 Axes>"
            ]
          },
          "metadata": {
            "tags": [],
            "needs_background": "light"
          }
        }
      ]
    },
    {
      "cell_type": "markdown",
      "metadata": {
        "id": "MI5JNCUI1epa"
      },
      "source": [
        "**Random Forest Classifier**"
      ]
    },
    {
      "cell_type": "code",
      "metadata": {
        "colab": {
          "base_uri": "https://localhost:8080/"
        },
        "id": "5vdrcng-1hqi",
        "outputId": "4bdcded4-d773-4944-a9d2-37d1463bad2e"
      },
      "source": [
        "from sklearn.ensemble import RandomForestClassifier\n",
        "model=RandomForestClassifier()\n",
        "model.fit(X_train,y_train)"
      ],
      "execution_count": 90,
      "outputs": [
        {
          "output_type": "execute_result",
          "data": {
            "text/plain": [
              "RandomForestClassifier(bootstrap=True, ccp_alpha=0.0, class_weight=None,\n",
              "                       criterion='gini', max_depth=None, max_features='auto',\n",
              "                       max_leaf_nodes=None, max_samples=None,\n",
              "                       min_impurity_decrease=0.0, min_impurity_split=None,\n",
              "                       min_samples_leaf=1, min_samples_split=2,\n",
              "                       min_weight_fraction_leaf=0.0, n_estimators=100,\n",
              "                       n_jobs=None, oob_score=False, random_state=None,\n",
              "                       verbose=0, warm_start=False)"
            ]
          },
          "metadata": {
            "tags": []
          },
          "execution_count": 90
        }
      ]
    },
    {
      "cell_type": "code",
      "metadata": {
        "colab": {
          "base_uri": "https://localhost:8080/",
          "height": 346
        },
        "id": "QiIJUpps1uuQ",
        "outputId": "f3cbc580-bf15-400e-d7a3-ad17c19fa21a"
      },
      "source": [
        "pred = model.predict(X_test)\n",
        "score = metrics.accuracy_score(y_test, pred)\n",
        "score=score*100\n",
        "score = '{0:.3g}'.format(score)\n",
        "\n",
        "print(\"Accuracy: \", score,\"%\")\n",
        "cm = metrics.confusion_matrix(y_test, pred)\n",
        "plot_confusion_matrix(cm, classes=['FAKE', 'REAL'])\n"
      ],
      "execution_count": 91,
      "outputs": [
        {
          "output_type": "stream",
          "text": [
            "Accuracy:  93.3 %\n",
            "Confusion matrix, without normalization\n"
          ],
          "name": "stdout"
        },
        {
          "output_type": "display_data",
          "data": {
            "image/png": "[encoded data removed]",
            "text/plain": [
              "<Figure size 432x288 with 2 Axes>"
            ]
          },
          "metadata": {
            "tags": [],
            "needs_background": "light"
          }
        }
      ]
    },
    {
      "cell_type": "markdown",
      "metadata": {
        "id": "dO5xPFgJ2FGn"
      },
      "source": [
        "**XGBoost Classifier**"
      ]
    },
    {
      "cell_type": "code",
      "metadata": {
        "colab": {
          "base_uri": "https://localhost:8080/"
        },
        "id": "lpKFidP-2ICI",
        "outputId": "76c874c1-b1a9-484d-df3d-aa023b3e3137"
      },
      "source": [
        "from xgboost import XGBClassifier\n",
        "model = XGBClassifier()\n",
        "model.fit(X_train, y_train)"
      ],
      "execution_count": 81,
      "outputs": [
        {
          "output_type": "execute_result",
          "data": {
            "text/plain": [
              "XGBClassifier(base_score=0.5, booster='gbtree', colsample_bylevel=1,\n",
              "              colsample_bynode=1, colsample_bytree=1, gamma=0,\n",
              "              learning_rate=0.1, max_delta_step=0, max_depth=3,\n",
              "              min_child_weight=1, missing=None, n_estimators=100, n_jobs=1,\n",
              "              nthread=None, objective='binary:logistic', random_state=0,\n",
              "              reg_alpha=0, reg_lambda=1, scale_pos_weight=1, seed=None,\n",
              "              silent=None, subsample=1, verbosity=1)"
            ]
          },
          "metadata": {
            "tags": []
          },
          "execution_count": 81
        }
      ]
    },
    {
      "cell_type": "code",
      "metadata": {
        "colab": {
          "base_uri": "https://localhost:8080/",
          "height": 346
        },
        "id": "WPPdlk6Y2f__",
        "outputId": "17ad1ea0-29ce-4fc3-bfe6-a2a3366a5b16"
      },
      "source": [
        "pred = model.predict(X_test)\n",
        "score = metrics.accuracy_score(y_test, pred)\n",
        "score=score*100\n",
        "score = '{0:.3g}'.format(score)\n",
        "\n",
        "print(\"Accuracy: \", score,\"%\")\n",
        "cm = metrics.confusion_matrix(y_test, pred)\n",
        "plot_confusion_matrix(cm, classes=['FAKE', 'REAL'])\n"
      ],
      "execution_count": 82,
      "outputs": [
        {
          "output_type": "stream",
          "text": [
            "Accuracy:  90.8 %\n",
            "Confusion matrix, without normalization\n"
          ],
          "name": "stdout"
        },
        {
          "output_type": "display_data",
          "data": {
            "image/png": "[encoded data removed]",
            "text/plain": [
              "<Figure size 432x288 with 2 Axes>"
            ]
          },
          "metadata": {
            "tags": [],
            "needs_background": "light"
          }
        }
      ]
    },
    {
      "cell_type": "markdown",
      "metadata": {
        "id": "nkwB69CJ2mMC"
      },
      "source": [
        "**LightGBM Classifier**"
      ]
    },
    {
      "cell_type": "code",
      "metadata": {
        "colab": {
          "base_uri": "https://localhost:8080/"
        },
        "id": "pqyTjaUt2psF",
        "outputId": "0fa3dc7a-7c3a-4dca-e666-c4fe59420f26"
      },
      "source": [
        "import lightgbm as ltb\n",
        "model = ltb.LGBMClassifier()\n",
        "model.fit(X_train, y_train)"
      ],
      "execution_count": 83,
      "outputs": [
        {
          "output_type": "execute_result",
          "data": {
            "text/plain": [
              "LGBMClassifier(boosting_type='gbdt', class_weight=None, colsample_bytree=1.0,\n",
              "               importance_type='split', learning_rate=0.1, max_depth=-1,\n",
              "               min_child_samples=20, min_child_weight=0.001, min_split_gain=0.0,\n",
              "               n_estimators=100, n_jobs=-1, num_leaves=31, objective=None,\n",
              "               random_state=None, reg_alpha=0.0, reg_lambda=0.0, silent=True,\n",
              "               subsample=1.0, subsample_for_bin=200000, subsample_freq=0)"
            ]
          },
          "metadata": {
            "tags": []
          },
          "execution_count": 83
        }
      ]
    },
    {
      "cell_type": "code",
      "metadata": {
        "colab": {
          "base_uri": "https://localhost:8080/",
          "height": 346
        },
        "id": "ATDSmgej3BWJ",
        "outputId": "c2e411e1-925b-42cc-cc3c-ea20f54e683f"
      },
      "source": [
        "pred = model.predict(X_test)\n",
        "score = metrics.accuracy_score(y_test, pred)\n",
        "score=score*100\n",
        "score = '{0:.3g}'.format(score)\n",
        "\n",
        "print(\"Accuracy: \", score,\"%\")\n",
        "cm = metrics.confusion_matrix(y_test, pred)\n",
        "plot_confusion_matrix(cm, classes=['FAKE', 'REAL'])\n"
      ],
      "execution_count": 84,
      "outputs": [
        {
          "output_type": "stream",
          "text": [
            "Accuracy:  92.6 %\n",
            "Confusion matrix, without normalization\n"
          ],
          "name": "stdout"
        },
        {
          "output_type": "display_data",
          "data": {
            "image/png": "[encoded data removed]",
            "text/plain": [
              "<Figure size 432x288 with 2 Axes>"
            ]
          },
          "metadata": {
            "tags": [],
            "needs_background": "light"
          }
        }
      ]
    },
    {
      "cell_type": "markdown",
      "metadata": {
        "id": "h2l-l2Yk3GV-"
      },
      "source": [
        "**CatBoost Classifier**"
      ]
    },
    {
      "cell_type": "code",
      "metadata": {
        "colab": {
          "base_uri": "https://localhost:8080/"
        },
        "id": "GAJDONsS3u6u",
        "outputId": "2688a5e3-9141-4018-9ec2-25ab2e86f0f3"
      },
      "source": [
        "!pip install catboost"
      ],
      "execution_count": 85,
      "outputs": [
        {
          "output_type": "stream",
          "text": [
            "Collecting catboost\n",
            "\u001b[?25l  Downloading https://files.pythonhosted.org/packages/5a/41/24e14322b9986cf72a8763e0a0a69cc256cf963cf9502c8f0044a62c1ae8/catboost-0.26-cp37-none-manylinux1_x86_64.whl (69.2MB)\n",
            "\u001b[K     |████████████████████████████████| 69.2MB 80kB/s \n",
            "\u001b[?25hRequirement already satisfied: graphviz in /usr/local/lib/python3.7/dist-packages (from catboost) (0.10.1)\n",
            "Requirement already satisfied: six in /usr/local/lib/python3.7/dist-packages (from catboost) (1.15.0)\n",
            "Requirement already satisfied: pandas>=0.24.0 in /usr/local/lib/python3.7/dist-packages (from catboost) (1.1.5)\n",
            "Requirement already satisfied: scipy in /usr/local/lib/python3.7/dist-packages (from catboost) (1.4.1)\n",
            "Requirement already satisfied: matplotlib in /usr/local/lib/python3.7/dist-packages (from catboost) (3.2.2)\n",
            "Requirement already satisfied: plotly in /usr/local/lib/python3.7/dist-packages (from catboost) (4.4.1)\n",
            "Requirement already satisfied: numpy>=1.16.0 in /usr/local/lib/python3.7/dist-packages (from catboost) (1.19.5)\n",
            "Requirement already satisfied: python-dateutil>=2.7.3 in /usr/local/lib/python3.7/dist-packages (from pandas>=0.24.0->catboost) (2.8.1)\n",
            "Requirement already satisfied: pytz>=2017.2 in /usr/local/lib/python3.7/dist-packages (from pandas>=0.24.0->catboost) (2018.9)\n",
            "Requirement already satisfied: cycler>=0.10 in /usr/local/lib/python3.7/dist-packages (from matplotlib->catboost) (0.10.0)\n",
            "Requirement already satisfied: kiwisolver>=1.0.1 in /usr/local/lib/python3.7/dist-packages (from matplotlib->catboost) (1.3.1)\n",
            "Requirement already satisfied: pyparsing!=2.0.4,!=2.1.2,!=2.1.6,>=2.0.1 in /usr/local/lib/python3.7/dist-packages (from matplotlib->catboost) (2.4.7)\n",
            "Requirement already satisfied: retrying>=1.3.3 in /usr/local/lib/python3.7/dist-packages (from plotly->catboost) (1.3.3)\n",
            "Installing collected packages: catboost\n",
            "Successfully installed catboost-0.26\n"
          ],
          "name": "stdout"
        }
      ]
    },
    {
      "cell_type": "code",
      "metadata": {
        "colab": {
          "base_uri": "https://localhost:8080/"
        },
        "id": "kGpV7Azx3JHu",
        "outputId": "14af9564-92d4-4486-f3c3-25de65652ce1"
      },
      "source": [
        "from catboost import CatBoostClassifier\n",
        "model=CatBoostClassifier()\n",
        "model.fit(X_train,y_train)"
      ],
      "execution_count": 86,
      "outputs": [
        {
          "output_type": "stream",
          "text": [
            "Learning rate set to 0.030031\n",
            "0:\tlearn: 0.6462194\ttotal: 85.1ms\tremaining: 1m 25s\n",
            "1:\tlearn: 0.6042966\ttotal: 111ms\tremaining: 55.4s\n",
            "2:\tlearn: 0.5647431\ttotal: 137ms\tremaining: 45.4s\n",
            "3:\tlearn: 0.5298745\ttotal: 161ms\tremaining: 40.2s\n",
            "4:\tlearn: 0.5011922\ttotal: 187ms\tremaining: 37.2s\n",
            "5:\tlearn: 0.4744106\ttotal: 214ms\tremaining: 35.4s\n",
            "6:\tlearn: 0.4511714\ttotal: 240ms\tremaining: 34.1s\n",
            "7:\tlearn: 0.4304302\ttotal: 272ms\tremaining: 33.7s\n",
            "8:\tlearn: 0.4135770\ttotal: 300ms\tremaining: 33.1s\n",
            "9:\tlearn: 0.3987202\ttotal: 326ms\tremaining: 32.3s\n",
            "10:\tlearn: 0.3847170\ttotal: 352ms\tremaining: 31.6s\n",
            "11:\tlearn: 0.3730663\ttotal: 377ms\tremaining: 31.1s\n",
            "12:\tlearn: 0.3618324\ttotal: 403ms\tremaining: 30.6s\n",
            "13:\tlearn: 0.3523624\ttotal: 429ms\tremaining: 30.2s\n",
            "14:\tlearn: 0.3424281\ttotal: 456ms\tremaining: 30s\n",
            "15:\tlearn: 0.3349855\ttotal: 483ms\tremaining: 29.7s\n",
            "16:\tlearn: 0.3277736\ttotal: 513ms\tremaining: 29.7s\n",
            "17:\tlearn: 0.3214783\ttotal: 540ms\tremaining: 29.4s\n",
            "18:\tlearn: 0.3163862\ttotal: 569ms\tremaining: 29.4s\n",
            "19:\tlearn: 0.3109700\ttotal: 596ms\tremaining: 29.2s\n",
            "20:\tlearn: 0.3054878\ttotal: 624ms\tremaining: 29.1s\n",
            "21:\tlearn: 0.3020335\ttotal: 650ms\tremaining: 28.9s\n",
            "22:\tlearn: 0.2977350\ttotal: 677ms\tremaining: 28.8s\n",
            "23:\tlearn: 0.2939886\ttotal: 703ms\tremaining: 28.6s\n",
            "24:\tlearn: 0.2902221\ttotal: 736ms\tremaining: 28.7s\n",
            "25:\tlearn: 0.2871161\ttotal: 764ms\tremaining: 28.6s\n",
            "26:\tlearn: 0.2841900\ttotal: 794ms\tremaining: 28.6s\n",
            "27:\tlearn: 0.2815780\ttotal: 821ms\tremaining: 28.5s\n",
            "28:\tlearn: 0.2795618\ttotal: 847ms\tremaining: 28.4s\n",
            "29:\tlearn: 0.2767594\ttotal: 877ms\tremaining: 28.3s\n",
            "30:\tlearn: 0.2745343\ttotal: 905ms\tremaining: 28.3s\n",
            "31:\tlearn: 0.2721000\ttotal: 932ms\tremaining: 28.2s\n",
            "32:\tlearn: 0.2697045\ttotal: 967ms\tremaining: 28.3s\n",
            "33:\tlearn: 0.2679101\ttotal: 994ms\tremaining: 28.2s\n",
            "34:\tlearn: 0.2663159\ttotal: 1.02s\tremaining: 28.2s\n",
            "35:\tlearn: 0.2647616\ttotal: 1.05s\tremaining: 28.1s\n",
            "36:\tlearn: 0.2635758\ttotal: 1.08s\tremaining: 28.1s\n",
            "37:\tlearn: 0.2620528\ttotal: 1.11s\tremaining: 28.1s\n",
            "38:\tlearn: 0.2606430\ttotal: 1.14s\tremaining: 28.1s\n",
            "39:\tlearn: 0.2596410\ttotal: 1.17s\tremaining: 28s\n",
            "40:\tlearn: 0.2586650\ttotal: 1.19s\tremaining: 27.9s\n",
            "41:\tlearn: 0.2573877\ttotal: 1.22s\tremaining: 27.9s\n",
            "42:\tlearn: 0.2563158\ttotal: 1.25s\tremaining: 27.8s\n",
            "43:\tlearn: 0.2554002\ttotal: 1.27s\tremaining: 27.6s\n",
            "44:\tlearn: 0.2541753\ttotal: 1.3s\tremaining: 27.6s\n",
            "45:\tlearn: 0.2532779\ttotal: 1.32s\tremaining: 27.5s\n",
            "46:\tlearn: 0.2520559\ttotal: 1.35s\tremaining: 27.5s\n",
            "47:\tlearn: 0.2508724\ttotal: 1.39s\tremaining: 27.5s\n",
            "48:\tlearn: 0.2499982\ttotal: 1.41s\tremaining: 27.4s\n",
            "49:\tlearn: 0.2491266\ttotal: 1.44s\tremaining: 27.4s\n",
            "50:\tlearn: 0.2485940\ttotal: 1.47s\tremaining: 27.4s\n",
            "51:\tlearn: 0.2476776\ttotal: 1.5s\tremaining: 27.3s\n",
            "52:\tlearn: 0.2469919\ttotal: 1.52s\tremaining: 27.3s\n",
            "53:\tlearn: 0.2463837\ttotal: 1.55s\tremaining: 27.2s\n",
            "54:\tlearn: 0.2458667\ttotal: 1.58s\tremaining: 27.1s\n",
            "55:\tlearn: 0.2452242\ttotal: 1.61s\tremaining: 27.1s\n",
            "56:\tlearn: 0.2444543\ttotal: 1.63s\tremaining: 27s\n",
            "57:\tlearn: 0.2436847\ttotal: 1.66s\tremaining: 27s\n",
            "58:\tlearn: 0.2431007\ttotal: 1.69s\tremaining: 27s\n",
            "59:\tlearn: 0.2424463\ttotal: 1.72s\tremaining: 27s\n",
            "60:\tlearn: 0.2415943\ttotal: 1.75s\tremaining: 27s\n",
            "61:\tlearn: 0.2408371\ttotal: 1.78s\tremaining: 27s\n",
            "62:\tlearn: 0.2403728\ttotal: 1.82s\tremaining: 27s\n",
            "63:\tlearn: 0.2398424\ttotal: 1.85s\tremaining: 27s\n",
            "64:\tlearn: 0.2394386\ttotal: 1.88s\tremaining: 27s\n",
            "65:\tlearn: 0.2389992\ttotal: 1.9s\tremaining: 26.9s\n",
            "66:\tlearn: 0.2385179\ttotal: 1.93s\tremaining: 26.9s\n",
            "67:\tlearn: 0.2380978\ttotal: 1.96s\tremaining: 26.8s\n",
            "68:\tlearn: 0.2372722\ttotal: 1.98s\tremaining: 26.7s\n",
            "69:\tlearn: 0.2368307\ttotal: 2.01s\tremaining: 26.7s\n",
            "70:\tlearn: 0.2363346\ttotal: 2.04s\tremaining: 26.7s\n",
            "71:\tlearn: 0.2356026\ttotal: 2.07s\tremaining: 26.7s\n",
            "72:\tlearn: 0.2352379\ttotal: 2.1s\tremaining: 26.7s\n",
            "73:\tlearn: 0.2347738\ttotal: 2.13s\tremaining: 26.6s\n",
            "74:\tlearn: 0.2344601\ttotal: 2.15s\tremaining: 26.5s\n",
            "75:\tlearn: 0.2341377\ttotal: 2.18s\tremaining: 26.5s\n",
            "76:\tlearn: 0.2336632\ttotal: 2.21s\tremaining: 26.4s\n",
            "77:\tlearn: 0.2333066\ttotal: 2.24s\tremaining: 26.4s\n",
            "78:\tlearn: 0.2328965\ttotal: 2.27s\tremaining: 26.4s\n",
            "79:\tlearn: 0.2324187\ttotal: 2.3s\tremaining: 26.4s\n",
            "80:\tlearn: 0.2320765\ttotal: 2.33s\tremaining: 26.4s\n",
            "81:\tlearn: 0.2317745\ttotal: 2.35s\tremaining: 26.3s\n",
            "82:\tlearn: 0.2314269\ttotal: 2.38s\tremaining: 26.3s\n",
            "83:\tlearn: 0.2310646\ttotal: 2.4s\tremaining: 26.2s\n",
            "84:\tlearn: 0.2306980\ttotal: 2.43s\tremaining: 26.1s\n",
            "85:\tlearn: 0.2303464\ttotal: 2.46s\tremaining: 26.1s\n",
            "86:\tlearn: 0.2299919\ttotal: 2.48s\tremaining: 26s\n",
            "87:\tlearn: 0.2297793\ttotal: 2.51s\tremaining: 26s\n",
            "88:\tlearn: 0.2295032\ttotal: 2.53s\tremaining: 25.9s\n",
            "89:\tlearn: 0.2291993\ttotal: 2.56s\tremaining: 25.9s\n",
            "90:\tlearn: 0.2288677\ttotal: 2.59s\tremaining: 25.8s\n",
            "91:\tlearn: 0.2285483\ttotal: 2.61s\tremaining: 25.8s\n",
            "92:\tlearn: 0.2281624\ttotal: 2.64s\tremaining: 25.8s\n",
            "93:\tlearn: 0.2277656\ttotal: 2.67s\tremaining: 25.8s\n",
            "94:\tlearn: 0.2274067\ttotal: 2.7s\tremaining: 25.7s\n",
            "95:\tlearn: 0.2271277\ttotal: 2.73s\tremaining: 25.7s\n",
            "96:\tlearn: 0.2268926\ttotal: 2.75s\tremaining: 25.6s\n",
            "97:\tlearn: 0.2264905\ttotal: 2.78s\tremaining: 25.6s\n",
            "98:\tlearn: 0.2262479\ttotal: 2.8s\tremaining: 25.5s\n",
            "99:\tlearn: 0.2260442\ttotal: 2.83s\tremaining: 25.5s\n",
            "100:\tlearn: 0.2257700\ttotal: 2.86s\tremaining: 25.4s\n",
            "101:\tlearn: 0.2254702\ttotal: 2.89s\tremaining: 25.4s\n",
            "102:\tlearn: 0.2251804\ttotal: 2.91s\tremaining: 25.4s\n",
            "103:\tlearn: 0.2248768\ttotal: 2.94s\tremaining: 25.3s\n",
            "104:\tlearn: 0.2246280\ttotal: 2.97s\tremaining: 25.3s\n",
            "105:\tlearn: 0.2244341\ttotal: 2.99s\tremaining: 25.3s\n",
            "106:\tlearn: 0.2241236\ttotal: 3.02s\tremaining: 25.2s\n",
            "107:\tlearn: 0.2238659\ttotal: 3.04s\tremaining: 25.2s\n",
            "108:\tlearn: 0.2235930\ttotal: 3.08s\tremaining: 25.2s\n",
            "109:\tlearn: 0.2232738\ttotal: 3.11s\tremaining: 25.1s\n",
            "110:\tlearn: 0.2230509\ttotal: 3.14s\tremaining: 25.1s\n",
            "111:\tlearn: 0.2228938\ttotal: 3.16s\tremaining: 25.1s\n",
            "112:\tlearn: 0.2226511\ttotal: 3.19s\tremaining: 25s\n",
            "113:\tlearn: 0.2224315\ttotal: 3.21s\tremaining: 25s\n",
            "114:\tlearn: 0.2221909\ttotal: 3.24s\tremaining: 25s\n",
            "115:\tlearn: 0.2219390\ttotal: 3.27s\tremaining: 24.9s\n",
            "116:\tlearn: 0.2216537\ttotal: 3.29s\tremaining: 24.9s\n",
            "117:\tlearn: 0.2214491\ttotal: 3.32s\tremaining: 24.8s\n",
            "118:\tlearn: 0.2210734\ttotal: 3.35s\tremaining: 24.8s\n",
            "119:\tlearn: 0.2207929\ttotal: 3.38s\tremaining: 24.8s\n",
            "120:\tlearn: 0.2205843\ttotal: 3.4s\tremaining: 24.7s\n",
            "121:\tlearn: 0.2203017\ttotal: 3.43s\tremaining: 24.7s\n",
            "122:\tlearn: 0.2201212\ttotal: 3.46s\tremaining: 24.7s\n",
            "123:\tlearn: 0.2199770\ttotal: 3.49s\tremaining: 24.6s\n",
            "124:\tlearn: 0.2197209\ttotal: 3.53s\tremaining: 24.7s\n",
            "125:\tlearn: 0.2194965\ttotal: 3.56s\tremaining: 24.7s\n",
            "126:\tlearn: 0.2192261\ttotal: 3.58s\tremaining: 24.6s\n",
            "127:\tlearn: 0.2190088\ttotal: 3.61s\tremaining: 24.6s\n",
            "128:\tlearn: 0.2187535\ttotal: 3.64s\tremaining: 24.6s\n",
            "129:\tlearn: 0.2185161\ttotal: 3.67s\tremaining: 24.5s\n",
            "130:\tlearn: 0.2183403\ttotal: 3.69s\tremaining: 24.5s\n",
            "131:\tlearn: 0.2181515\ttotal: 3.72s\tremaining: 24.5s\n",
            "132:\tlearn: 0.2179729\ttotal: 3.75s\tremaining: 24.5s\n",
            "133:\tlearn: 0.2174814\ttotal: 3.78s\tremaining: 24.4s\n",
            "134:\tlearn: 0.2171984\ttotal: 3.81s\tremaining: 24.4s\n",
            "135:\tlearn: 0.2170441\ttotal: 3.83s\tremaining: 24.4s\n",
            "136:\tlearn: 0.2168385\ttotal: 3.86s\tremaining: 24.3s\n",
            "137:\tlearn: 0.2166849\ttotal: 3.89s\tremaining: 24.3s\n",
            "138:\tlearn: 0.2164903\ttotal: 3.91s\tremaining: 24.2s\n",
            "139:\tlearn: 0.2163124\ttotal: 3.94s\tremaining: 24.2s\n",
            "140:\tlearn: 0.2161650\ttotal: 3.97s\tremaining: 24.2s\n",
            "141:\tlearn: 0.2159819\ttotal: 4s\tremaining: 24.2s\n",
            "142:\tlearn: 0.2157565\ttotal: 4.03s\tremaining: 24.1s\n",
            "143:\tlearn: 0.2155153\ttotal: 4.06s\tremaining: 24.1s\n",
            "144:\tlearn: 0.2153355\ttotal: 4.09s\tremaining: 24.1s\n",
            "145:\tlearn: 0.2151171\ttotal: 4.11s\tremaining: 24.1s\n",
            "146:\tlearn: 0.2149711\ttotal: 4.14s\tremaining: 24s\n",
            "147:\tlearn: 0.2147651\ttotal: 4.17s\tremaining: 24s\n",
            "148:\tlearn: 0.2145781\ttotal: 4.2s\tremaining: 24s\n",
            "149:\tlearn: 0.2144519\ttotal: 4.22s\tremaining: 23.9s\n",
            "150:\tlearn: 0.2143113\ttotal: 4.25s\tremaining: 23.9s\n",
            "151:\tlearn: 0.2141966\ttotal: 4.28s\tremaining: 23.9s\n",
            "152:\tlearn: 0.2139873\ttotal: 4.3s\tremaining: 23.8s\n",
            "153:\tlearn: 0.2138231\ttotal: 4.33s\tremaining: 23.8s\n",
            "154:\tlearn: 0.2136583\ttotal: 4.36s\tremaining: 23.7s\n",
            "155:\tlearn: 0.2135230\ttotal: 4.38s\tremaining: 23.7s\n",
            "156:\tlearn: 0.2134205\ttotal: 4.41s\tremaining: 23.7s\n",
            "157:\tlearn: 0.2132119\ttotal: 4.44s\tremaining: 23.7s\n",
            "158:\tlearn: 0.2128830\ttotal: 4.47s\tremaining: 23.6s\n",
            "159:\tlearn: 0.2127144\ttotal: 4.5s\tremaining: 23.6s\n",
            "160:\tlearn: 0.2124967\ttotal: 4.52s\tremaining: 23.6s\n",
            "161:\tlearn: 0.2122872\ttotal: 4.55s\tremaining: 23.5s\n",
            "162:\tlearn: 0.2121493\ttotal: 4.58s\tremaining: 23.5s\n",
            "163:\tlearn: 0.2119559\ttotal: 4.6s\tremaining: 23.5s\n",
            "164:\tlearn: 0.2118012\ttotal: 4.63s\tremaining: 23.4s\n",
            "165:\tlearn: 0.2116443\ttotal: 4.66s\tremaining: 23.4s\n",
            "166:\tlearn: 0.2114490\ttotal: 4.69s\tremaining: 23.4s\n",
            "167:\tlearn: 0.2112770\ttotal: 4.72s\tremaining: 23.4s\n",
            "168:\tlearn: 0.2111614\ttotal: 4.75s\tremaining: 23.3s\n",
            "169:\tlearn: 0.2110239\ttotal: 4.77s\tremaining: 23.3s\n",
            "170:\tlearn: 0.2108781\ttotal: 4.8s\tremaining: 23.3s\n",
            "171:\tlearn: 0.2106984\ttotal: 4.83s\tremaining: 23.2s\n",
            "172:\tlearn: 0.2105705\ttotal: 4.86s\tremaining: 23.2s\n",
            "173:\tlearn: 0.2103717\ttotal: 4.89s\tremaining: 23.2s\n",
            "174:\tlearn: 0.2102257\ttotal: 4.91s\tremaining: 23.2s\n",
            "175:\tlearn: 0.2100359\ttotal: 4.95s\tremaining: 23.2s\n",
            "176:\tlearn: 0.2098605\ttotal: 4.97s\tremaining: 23.1s\n",
            "177:\tlearn: 0.2096212\ttotal: 5s\tremaining: 23.1s\n",
            "178:\tlearn: 0.2094884\ttotal: 5.03s\tremaining: 23.1s\n",
            "179:\tlearn: 0.2093521\ttotal: 5.06s\tremaining: 23s\n",
            "180:\tlearn: 0.2091844\ttotal: 5.09s\tremaining: 23s\n",
            "181:\tlearn: 0.2089989\ttotal: 5.11s\tremaining: 23s\n",
            "182:\tlearn: 0.2087935\ttotal: 5.14s\tremaining: 23s\n",
            "183:\tlearn: 0.2086433\ttotal: 5.17s\tremaining: 22.9s\n",
            "184:\tlearn: 0.2084100\ttotal: 5.2s\tremaining: 22.9s\n",
            "185:\tlearn: 0.2082758\ttotal: 5.23s\tremaining: 22.9s\n",
            "186:\tlearn: 0.2081153\ttotal: 5.26s\tremaining: 22.9s\n",
            "187:\tlearn: 0.2079818\ttotal: 5.29s\tremaining: 22.8s\n",
            "188:\tlearn: 0.2078330\ttotal: 5.31s\tremaining: 22.8s\n",
            "189:\tlearn: 0.2076861\ttotal: 5.34s\tremaining: 22.8s\n",
            "190:\tlearn: 0.2075361\ttotal: 5.38s\tremaining: 22.8s\n",
            "191:\tlearn: 0.2074025\ttotal: 5.41s\tremaining: 22.8s\n",
            "192:\tlearn: 0.2072190\ttotal: 5.44s\tremaining: 22.8s\n",
            "193:\tlearn: 0.2070789\ttotal: 5.47s\tremaining: 22.7s\n",
            "194:\tlearn: 0.2069524\ttotal: 5.5s\tremaining: 22.7s\n",
            "195:\tlearn: 0.2067577\ttotal: 5.53s\tremaining: 22.7s\n",
            "196:\tlearn: 0.2066432\ttotal: 5.56s\tremaining: 22.7s\n",
            "197:\tlearn: 0.2065440\ttotal: 5.59s\tremaining: 22.6s\n",
            "198:\tlearn: 0.2064276\ttotal: 5.62s\tremaining: 22.6s\n",
            "199:\tlearn: 0.2063037\ttotal: 5.64s\tremaining: 22.6s\n",
            "200:\tlearn: 0.2062152\ttotal: 5.67s\tremaining: 22.5s\n",
            "201:\tlearn: 0.2059918\ttotal: 5.7s\tremaining: 22.5s\n",
            "202:\tlearn: 0.2058386\ttotal: 5.73s\tremaining: 22.5s\n",
            "203:\tlearn: 0.2057523\ttotal: 5.75s\tremaining: 22.5s\n",
            "204:\tlearn: 0.2056308\ttotal: 5.78s\tremaining: 22.4s\n",
            "205:\tlearn: 0.2055273\ttotal: 5.81s\tremaining: 22.4s\n",
            "206:\tlearn: 0.2054315\ttotal: 5.84s\tremaining: 22.4s\n",
            "207:\tlearn: 0.2053623\ttotal: 5.87s\tremaining: 22.3s\n",
            "208:\tlearn: 0.2051722\ttotal: 5.89s\tremaining: 22.3s\n",
            "209:\tlearn: 0.2048458\ttotal: 5.93s\tremaining: 22.3s\n",
            "210:\tlearn: 0.2047622\ttotal: 5.96s\tremaining: 22.3s\n",
            "211:\tlearn: 0.2046361\ttotal: 5.98s\tremaining: 22.2s\n",
            "212:\tlearn: 0.2044922\ttotal: 6.01s\tremaining: 22.2s\n",
            "213:\tlearn: 0.2043760\ttotal: 6.04s\tremaining: 22.2s\n",
            "214:\tlearn: 0.2042270\ttotal: 6.07s\tremaining: 22.2s\n",
            "215:\tlearn: 0.2041663\ttotal: 6.1s\tremaining: 22.1s\n",
            "216:\tlearn: 0.2040681\ttotal: 6.12s\tremaining: 22.1s\n",
            "217:\tlearn: 0.2038741\ttotal: 6.16s\tremaining: 22.1s\n",
            "218:\tlearn: 0.2037563\ttotal: 6.18s\tremaining: 22s\n",
            "219:\tlearn: 0.2036102\ttotal: 6.21s\tremaining: 22s\n",
            "220:\tlearn: 0.2035399\ttotal: 6.23s\tremaining: 22s\n",
            "221:\tlearn: 0.2033790\ttotal: 6.26s\tremaining: 21.9s\n",
            "222:\tlearn: 0.2032833\ttotal: 6.29s\tremaining: 21.9s\n",
            "223:\tlearn: 0.2031623\ttotal: 6.32s\tremaining: 21.9s\n",
            "224:\tlearn: 0.2030479\ttotal: 6.34s\tremaining: 21.8s\n",
            "225:\tlearn: 0.2029139\ttotal: 6.37s\tremaining: 21.8s\n",
            "226:\tlearn: 0.2027354\ttotal: 6.4s\tremaining: 21.8s\n",
            "227:\tlearn: 0.2025769\ttotal: 6.43s\tremaining: 21.8s\n",
            "228:\tlearn: 0.2024587\ttotal: 6.45s\tremaining: 21.7s\n",
            "229:\tlearn: 0.2023662\ttotal: 6.48s\tremaining: 21.7s\n",
            "230:\tlearn: 0.2022004\ttotal: 6.5s\tremaining: 21.7s\n",
            "231:\tlearn: 0.2021096\ttotal: 6.53s\tremaining: 21.6s\n",
            "232:\tlearn: 0.2020151\ttotal: 6.56s\tremaining: 21.6s\n",
            "233:\tlearn: 0.2018601\ttotal: 6.59s\tremaining: 21.6s\n",
            "234:\tlearn: 0.2017069\ttotal: 6.62s\tremaining: 21.5s\n",
            "235:\tlearn: 0.2015946\ttotal: 6.64s\tremaining: 21.5s\n",
            "236:\tlearn: 0.2013795\ttotal: 6.67s\tremaining: 21.5s\n",
            "237:\tlearn: 0.2012461\ttotal: 6.7s\tremaining: 21.4s\n",
            "238:\tlearn: 0.2011375\ttotal: 6.73s\tremaining: 21.4s\n",
            "239:\tlearn: 0.2009780\ttotal: 6.75s\tremaining: 21.4s\n",
            "240:\tlearn: 0.2008747\ttotal: 6.78s\tremaining: 21.4s\n",
            "241:\tlearn: 0.2007524\ttotal: 6.81s\tremaining: 21.3s\n",
            "242:\tlearn: 0.2006446\ttotal: 6.84s\tremaining: 21.3s\n",
            "243:\tlearn: 0.2005470\ttotal: 6.86s\tremaining: 21.3s\n",
            "244:\tlearn: 0.2004299\ttotal: 6.89s\tremaining: 21.2s\n",
            "245:\tlearn: 0.2003292\ttotal: 6.92s\tremaining: 21.2s\n",
            "246:\tlearn: 0.2002446\ttotal: 6.95s\tremaining: 21.2s\n",
            "247:\tlearn: 0.2001092\ttotal: 6.97s\tremaining: 21.1s\n",
            "248:\tlearn: 0.1999536\ttotal: 7s\tremaining: 21.1s\n",
            "249:\tlearn: 0.1998318\ttotal: 7.03s\tremaining: 21.1s\n",
            "250:\tlearn: 0.1997737\ttotal: 7.06s\tremaining: 21.1s\n",
            "251:\tlearn: 0.1996350\ttotal: 7.09s\tremaining: 21.1s\n",
            "252:\tlearn: 0.1995065\ttotal: 7.12s\tremaining: 21s\n",
            "253:\tlearn: 0.1993681\ttotal: 7.15s\tremaining: 21s\n",
            "254:\tlearn: 0.1992408\ttotal: 7.18s\tremaining: 21s\n",
            "255:\tlearn: 0.1990988\ttotal: 7.21s\tremaining: 20.9s\n",
            "256:\tlearn: 0.1990054\ttotal: 7.24s\tremaining: 20.9s\n",
            "257:\tlearn: 0.1989226\ttotal: 7.26s\tremaining: 20.9s\n",
            "258:\tlearn: 0.1987920\ttotal: 7.29s\tremaining: 20.9s\n",
            "259:\tlearn: 0.1986968\ttotal: 7.32s\tremaining: 20.8s\n",
            "260:\tlearn: 0.1985589\ttotal: 7.34s\tremaining: 20.8s\n",
            "261:\tlearn: 0.1984663\ttotal: 7.37s\tremaining: 20.8s\n",
            "262:\tlearn: 0.1983777\ttotal: 7.4s\tremaining: 20.7s\n",
            "263:\tlearn: 0.1982553\ttotal: 7.43s\tremaining: 20.7s\n",
            "264:\tlearn: 0.1981220\ttotal: 7.46s\tremaining: 20.7s\n",
            "265:\tlearn: 0.1979786\ttotal: 7.49s\tremaining: 20.7s\n",
            "266:\tlearn: 0.1978702\ttotal: 7.51s\tremaining: 20.6s\n",
            "267:\tlearn: 0.1977745\ttotal: 7.54s\tremaining: 20.6s\n",
            "268:\tlearn: 0.1976842\ttotal: 7.57s\tremaining: 20.6s\n",
            "269:\tlearn: 0.1974005\ttotal: 7.6s\tremaining: 20.5s\n",
            "270:\tlearn: 0.1972884\ttotal: 7.63s\tremaining: 20.5s\n",
            "271:\tlearn: 0.1971804\ttotal: 7.65s\tremaining: 20.5s\n",
            "272:\tlearn: 0.1970494\ttotal: 7.68s\tremaining: 20.5s\n",
            "273:\tlearn: 0.1969743\ttotal: 7.71s\tremaining: 20.4s\n",
            "274:\tlearn: 0.1968810\ttotal: 7.74s\tremaining: 20.4s\n",
            "275:\tlearn: 0.1966493\ttotal: 7.77s\tremaining: 20.4s\n",
            "276:\tlearn: 0.1965058\ttotal: 7.79s\tremaining: 20.3s\n",
            "277:\tlearn: 0.1964227\ttotal: 7.82s\tremaining: 20.3s\n",
            "278:\tlearn: 0.1962835\ttotal: 7.85s\tremaining: 20.3s\n",
            "279:\tlearn: 0.1962172\ttotal: 7.88s\tremaining: 20.3s\n",
            "280:\tlearn: 0.1960890\ttotal: 7.92s\tremaining: 20.3s\n",
            "281:\tlearn: 0.1959870\ttotal: 7.94s\tremaining: 20.2s\n",
            "282:\tlearn: 0.1959138\ttotal: 7.97s\tremaining: 20.2s\n",
            "283:\tlearn: 0.1958141\ttotal: 8s\tremaining: 20.2s\n",
            "284:\tlearn: 0.1956887\ttotal: 8.03s\tremaining: 20.1s\n",
            "285:\tlearn: 0.1954828\ttotal: 8.06s\tremaining: 20.1s\n",
            "286:\tlearn: 0.1953286\ttotal: 8.09s\tremaining: 20.1s\n",
            "287:\tlearn: 0.1952344\ttotal: 8.12s\tremaining: 20.1s\n",
            "288:\tlearn: 0.1951247\ttotal: 8.15s\tremaining: 20s\n",
            "289:\tlearn: 0.1950116\ttotal: 8.18s\tremaining: 20s\n",
            "290:\tlearn: 0.1949061\ttotal: 8.21s\tremaining: 20s\n",
            "291:\tlearn: 0.1948052\ttotal: 8.23s\tremaining: 20s\n",
            "292:\tlearn: 0.1946907\ttotal: 8.26s\tremaining: 19.9s\n",
            "293:\tlearn: 0.1946104\ttotal: 8.29s\tremaining: 19.9s\n",
            "294:\tlearn: 0.1945211\ttotal: 8.31s\tremaining: 19.9s\n",
            "295:\tlearn: 0.1944356\ttotal: 8.35s\tremaining: 19.9s\n",
            "296:\tlearn: 0.1941340\ttotal: 8.38s\tremaining: 19.8s\n",
            "297:\tlearn: 0.1940126\ttotal: 8.41s\tremaining: 19.8s\n",
            "298:\tlearn: 0.1939275\ttotal: 8.43s\tremaining: 19.8s\n",
            "299:\tlearn: 0.1938048\ttotal: 8.46s\tremaining: 19.7s\n",
            "300:\tlearn: 0.1937187\ttotal: 8.49s\tremaining: 19.7s\n",
            "301:\tlearn: 0.1936348\ttotal: 8.52s\tremaining: 19.7s\n",
            "302:\tlearn: 0.1935193\ttotal: 8.55s\tremaining: 19.7s\n",
            "303:\tlearn: 0.1934314\ttotal: 8.58s\tremaining: 19.6s\n",
            "304:\tlearn: 0.1933322\ttotal: 8.6s\tremaining: 19.6s\n",
            "305:\tlearn: 0.1932542\ttotal: 8.63s\tremaining: 19.6s\n",
            "306:\tlearn: 0.1931196\ttotal: 8.65s\tremaining: 19.5s\n",
            "307:\tlearn: 0.1929248\ttotal: 8.68s\tremaining: 19.5s\n",
            "308:\tlearn: 0.1927931\ttotal: 8.71s\tremaining: 19.5s\n",
            "309:\tlearn: 0.1926903\ttotal: 8.73s\tremaining: 19.4s\n",
            "310:\tlearn: 0.1926110\ttotal: 8.77s\tremaining: 19.4s\n",
            "311:\tlearn: 0.1925270\ttotal: 8.79s\tremaining: 19.4s\n",
            "312:\tlearn: 0.1924381\ttotal: 8.82s\tremaining: 19.4s\n",
            "313:\tlearn: 0.1923224\ttotal: 8.85s\tremaining: 19.3s\n",
            "314:\tlearn: 0.1922042\ttotal: 8.88s\tremaining: 19.3s\n",
            "315:\tlearn: 0.1920916\ttotal: 8.9s\tremaining: 19.3s\n",
            "316:\tlearn: 0.1919574\ttotal: 8.93s\tremaining: 19.2s\n",
            "317:\tlearn: 0.1918316\ttotal: 8.96s\tremaining: 19.2s\n",
            "318:\tlearn: 0.1917310\ttotal: 8.99s\tremaining: 19.2s\n",
            "319:\tlearn: 0.1916446\ttotal: 9.01s\tremaining: 19.2s\n",
            "320:\tlearn: 0.1915550\ttotal: 9.04s\tremaining: 19.1s\n",
            "321:\tlearn: 0.1914465\ttotal: 9.07s\tremaining: 19.1s\n",
            "322:\tlearn: 0.1913379\ttotal: 9.1s\tremaining: 19.1s\n",
            "323:\tlearn: 0.1912209\ttotal: 9.13s\tremaining: 19s\n",
            "324:\tlearn: 0.1911187\ttotal: 9.15s\tremaining: 19s\n",
            "325:\tlearn: 0.1910146\ttotal: 9.18s\tremaining: 19s\n",
            "326:\tlearn: 0.1909166\ttotal: 9.21s\tremaining: 19s\n",
            "327:\tlearn: 0.1908057\ttotal: 9.24s\tremaining: 18.9s\n",
            "328:\tlearn: 0.1906468\ttotal: 9.27s\tremaining: 18.9s\n",
            "329:\tlearn: 0.1905659\ttotal: 9.29s\tremaining: 18.9s\n",
            "330:\tlearn: 0.1904711\ttotal: 9.32s\tremaining: 18.8s\n",
            "331:\tlearn: 0.1903984\ttotal: 9.34s\tremaining: 18.8s\n",
            "332:\tlearn: 0.1902593\ttotal: 9.37s\tremaining: 18.8s\n",
            "333:\tlearn: 0.1901420\ttotal: 9.4s\tremaining: 18.7s\n",
            "334:\tlearn: 0.1900270\ttotal: 9.42s\tremaining: 18.7s\n",
            "335:\tlearn: 0.1899018\ttotal: 9.45s\tremaining: 18.7s\n",
            "336:\tlearn: 0.1897712\ttotal: 9.48s\tremaining: 18.6s\n",
            "337:\tlearn: 0.1896757\ttotal: 9.51s\tremaining: 18.6s\n",
            "338:\tlearn: 0.1895661\ttotal: 9.53s\tremaining: 18.6s\n",
            "339:\tlearn: 0.1894581\ttotal: 9.56s\tremaining: 18.6s\n",
            "340:\tlearn: 0.1893851\ttotal: 9.59s\tremaining: 18.5s\n",
            "341:\tlearn: 0.1892922\ttotal: 9.62s\tremaining: 18.5s\n",
            "342:\tlearn: 0.1892100\ttotal: 9.65s\tremaining: 18.5s\n",
            "343:\tlearn: 0.1891152\ttotal: 9.68s\tremaining: 18.5s\n",
            "344:\tlearn: 0.1890331\ttotal: 9.71s\tremaining: 18.4s\n",
            "345:\tlearn: 0.1889621\ttotal: 9.73s\tremaining: 18.4s\n",
            "346:\tlearn: 0.1888600\ttotal: 9.76s\tremaining: 18.4s\n",
            "347:\tlearn: 0.1887601\ttotal: 9.79s\tremaining: 18.3s\n",
            "348:\tlearn: 0.1886306\ttotal: 9.81s\tremaining: 18.3s\n",
            "349:\tlearn: 0.1885359\ttotal: 9.84s\tremaining: 18.3s\n",
            "350:\tlearn: 0.1884550\ttotal: 9.88s\tremaining: 18.3s\n",
            "351:\tlearn: 0.1882944\ttotal: 9.9s\tremaining: 18.2s\n",
            "352:\tlearn: 0.1882233\ttotal: 9.93s\tremaining: 18.2s\n",
            "353:\tlearn: 0.1881181\ttotal: 9.96s\tremaining: 18.2s\n",
            "354:\tlearn: 0.1879993\ttotal: 9.99s\tremaining: 18.1s\n",
            "355:\tlearn: 0.1878938\ttotal: 10s\tremaining: 18.1s\n",
            "356:\tlearn: 0.1877853\ttotal: 10s\tremaining: 18.1s\n",
            "357:\tlearn: 0.1877055\ttotal: 10.1s\tremaining: 18.1s\n",
            "358:\tlearn: 0.1876133\ttotal: 10.1s\tremaining: 18s\n",
            "359:\tlearn: 0.1875373\ttotal: 10.1s\tremaining: 18s\n",
            "360:\tlearn: 0.1874717\ttotal: 10.2s\tremaining: 18s\n",
            "361:\tlearn: 0.1873995\ttotal: 10.2s\tremaining: 18s\n",
            "362:\tlearn: 0.1873154\ttotal: 10.2s\tremaining: 17.9s\n",
            "363:\tlearn: 0.1872352\ttotal: 10.2s\tremaining: 17.9s\n",
            "364:\tlearn: 0.1871045\ttotal: 10.3s\tremaining: 17.9s\n",
            "365:\tlearn: 0.1870447\ttotal: 10.3s\tremaining: 17.8s\n",
            "366:\tlearn: 0.1869269\ttotal: 10.3s\tremaining: 17.8s\n",
            "367:\tlearn: 0.1867832\ttotal: 10.4s\tremaining: 17.8s\n",
            "368:\tlearn: 0.1867248\ttotal: 10.4s\tremaining: 17.8s\n",
            "369:\tlearn: 0.1866454\ttotal: 10.4s\tremaining: 17.7s\n",
            "370:\tlearn: 0.1865251\ttotal: 10.4s\tremaining: 17.7s\n",
            "371:\tlearn: 0.1864507\ttotal: 10.5s\tremaining: 17.7s\n",
            "372:\tlearn: 0.1863652\ttotal: 10.5s\tremaining: 17.6s\n",
            "373:\tlearn: 0.1862288\ttotal: 10.5s\tremaining: 17.6s\n",
            "374:\tlearn: 0.1861197\ttotal: 10.6s\tremaining: 17.6s\n",
            "375:\tlearn: 0.1860360\ttotal: 10.6s\tremaining: 17.6s\n",
            "376:\tlearn: 0.1859712\ttotal: 10.6s\tremaining: 17.5s\n",
            "377:\tlearn: 0.1858629\ttotal: 10.6s\tremaining: 17.5s\n",
            "378:\tlearn: 0.1857178\ttotal: 10.7s\tremaining: 17.5s\n",
            "379:\tlearn: 0.1855607\ttotal: 10.7s\tremaining: 17.4s\n",
            "380:\tlearn: 0.1855003\ttotal: 10.7s\tremaining: 17.4s\n",
            "381:\tlearn: 0.1854148\ttotal: 10.7s\tremaining: 17.4s\n",
            "382:\tlearn: 0.1853563\ttotal: 10.8s\tremaining: 17.4s\n",
            "383:\tlearn: 0.1852844\ttotal: 10.8s\tremaining: 17.3s\n",
            "384:\tlearn: 0.1851713\ttotal: 10.8s\tremaining: 17.3s\n",
            "385:\tlearn: 0.1850062\ttotal: 10.9s\tremaining: 17.3s\n",
            "386:\tlearn: 0.1848687\ttotal: 10.9s\tremaining: 17.2s\n",
            "387:\tlearn: 0.1847825\ttotal: 10.9s\tremaining: 17.2s\n",
            "388:\tlearn: 0.1847031\ttotal: 10.9s\tremaining: 17.2s\n",
            "389:\tlearn: 0.1846377\ttotal: 11s\tremaining: 17.2s\n",
            "390:\tlearn: 0.1845537\ttotal: 11s\tremaining: 17.1s\n",
            "391:\tlearn: 0.1844295\ttotal: 11s\tremaining: 17.1s\n",
            "392:\tlearn: 0.1843195\ttotal: 11.1s\tremaining: 17.1s\n",
            "393:\tlearn: 0.1842444\ttotal: 11.1s\tremaining: 17.1s\n",
            "394:\tlearn: 0.1841512\ttotal: 11.1s\tremaining: 17s\n",
            "395:\tlearn: 0.1840598\ttotal: 11.1s\tremaining: 17s\n",
            "396:\tlearn: 0.1839727\ttotal: 11.2s\tremaining: 17s\n",
            "397:\tlearn: 0.1839035\ttotal: 11.2s\tremaining: 16.9s\n",
            "398:\tlearn: 0.1838534\ttotal: 11.2s\tremaining: 16.9s\n",
            "399:\tlearn: 0.1837622\ttotal: 11.3s\tremaining: 16.9s\n",
            "400:\tlearn: 0.1837127\ttotal: 11.3s\tremaining: 16.8s\n",
            "401:\tlearn: 0.1836553\ttotal: 11.3s\tremaining: 16.8s\n",
            "402:\tlearn: 0.1835151\ttotal: 11.3s\tremaining: 16.8s\n",
            "403:\tlearn: 0.1834635\ttotal: 11.4s\tremaining: 16.8s\n",
            "404:\tlearn: 0.1833430\ttotal: 11.4s\tremaining: 16.7s\n",
            "405:\tlearn: 0.1832644\ttotal: 11.4s\tremaining: 16.7s\n",
            "406:\tlearn: 0.1831952\ttotal: 11.4s\tremaining: 16.7s\n",
            "407:\tlearn: 0.1831390\ttotal: 11.5s\tremaining: 16.6s\n",
            "408:\tlearn: 0.1830714\ttotal: 11.5s\tremaining: 16.6s\n",
            "409:\tlearn: 0.1829121\ttotal: 11.5s\tremaining: 16.6s\n",
            "410:\tlearn: 0.1828532\ttotal: 11.5s\tremaining: 16.5s\n",
            "411:\tlearn: 0.1827212\ttotal: 11.6s\tremaining: 16.5s\n",
            "412:\tlearn: 0.1825860\ttotal: 11.6s\tremaining: 16.5s\n",
            "413:\tlearn: 0.1824853\ttotal: 11.6s\tremaining: 16.4s\n",
            "414:\tlearn: 0.1823643\ttotal: 11.7s\tremaining: 16.4s\n",
            "415:\tlearn: 0.1822210\ttotal: 11.7s\tremaining: 16.4s\n",
            "416:\tlearn: 0.1821281\ttotal: 11.7s\tremaining: 16.4s\n",
            "417:\tlearn: 0.1819943\ttotal: 11.7s\tremaining: 16.3s\n",
            "418:\tlearn: 0.1818651\ttotal: 11.8s\tremaining: 16.3s\n",
            "419:\tlearn: 0.1817895\ttotal: 11.8s\tremaining: 16.3s\n",
            "420:\tlearn: 0.1817356\ttotal: 11.8s\tremaining: 16.2s\n",
            "421:\tlearn: 0.1816881\ttotal: 11.8s\tremaining: 16.2s\n",
            "422:\tlearn: 0.1815491\ttotal: 11.9s\tremaining: 16.2s\n",
            "423:\tlearn: 0.1814864\ttotal: 11.9s\tremaining: 16.2s\n",
            "424:\tlearn: 0.1813310\ttotal: 11.9s\tremaining: 16.1s\n",
            "425:\tlearn: 0.1812764\ttotal: 12s\tremaining: 16.1s\n",
            "426:\tlearn: 0.1811363\ttotal: 12s\tremaining: 16.1s\n",
            "427:\tlearn: 0.1810867\ttotal: 12s\tremaining: 16.1s\n",
            "428:\tlearn: 0.1810380\ttotal: 12s\tremaining: 16s\n",
            "429:\tlearn: 0.1809880\ttotal: 12.1s\tremaining: 16s\n",
            "430:\tlearn: 0.1809127\ttotal: 12.1s\tremaining: 16s\n",
            "431:\tlearn: 0.1808029\ttotal: 12.1s\tremaining: 16s\n",
            "432:\tlearn: 0.1807757\ttotal: 12.2s\tremaining: 15.9s\n",
            "433:\tlearn: 0.1807062\ttotal: 12.2s\tremaining: 15.9s\n",
            "434:\tlearn: 0.1806297\ttotal: 12.2s\tremaining: 15.9s\n",
            "435:\tlearn: 0.1806039\ttotal: 12.2s\tremaining: 15.8s\n",
            "436:\tlearn: 0.1805598\ttotal: 12.3s\tremaining: 15.8s\n",
            "437:\tlearn: 0.1804492\ttotal: 12.3s\tremaining: 15.8s\n",
            "438:\tlearn: 0.1802932\ttotal: 12.3s\tremaining: 15.8s\n",
            "439:\tlearn: 0.1801790\ttotal: 12.4s\tremaining: 15.7s\n",
            "440:\tlearn: 0.1800616\ttotal: 12.4s\tremaining: 15.7s\n",
            "441:\tlearn: 0.1799704\ttotal: 12.4s\tremaining: 15.7s\n",
            "442:\tlearn: 0.1798506\ttotal: 12.4s\tremaining: 15.6s\n",
            "443:\tlearn: 0.1797849\ttotal: 12.5s\tremaining: 15.6s\n",
            "444:\tlearn: 0.1796799\ttotal: 12.5s\tremaining: 15.6s\n",
            "445:\tlearn: 0.1796348\ttotal: 12.5s\tremaining: 15.6s\n",
            "446:\tlearn: 0.1795474\ttotal: 12.6s\tremaining: 15.5s\n",
            "447:\tlearn: 0.1794778\ttotal: 12.6s\tremaining: 15.5s\n",
            "448:\tlearn: 0.1794156\ttotal: 12.6s\tremaining: 15.5s\n",
            "449:\tlearn: 0.1793190\ttotal: 12.6s\tremaining: 15.4s\n",
            "450:\tlearn: 0.1792516\ttotal: 12.7s\tremaining: 15.4s\n",
            "451:\tlearn: 0.1791431\ttotal: 12.7s\tremaining: 15.4s\n",
            "452:\tlearn: 0.1790318\ttotal: 12.7s\tremaining: 15.4s\n",
            "453:\tlearn: 0.1789699\ttotal: 12.8s\tremaining: 15.3s\n",
            "454:\tlearn: 0.1789179\ttotal: 12.8s\tremaining: 15.3s\n",
            "455:\tlearn: 0.1788596\ttotal: 12.8s\tremaining: 15.3s\n",
            "456:\tlearn: 0.1788139\ttotal: 12.8s\tremaining: 15.3s\n",
            "457:\tlearn: 0.1787351\ttotal: 12.9s\tremaining: 15.2s\n",
            "458:\tlearn: 0.1786158\ttotal: 12.9s\tremaining: 15.2s\n",
            "459:\tlearn: 0.1785273\ttotal: 12.9s\tremaining: 15.2s\n",
            "460:\tlearn: 0.1784780\ttotal: 12.9s\tremaining: 15.1s\n",
            "461:\tlearn: 0.1783587\ttotal: 13s\tremaining: 15.1s\n",
            "462:\tlearn: 0.1782576\ttotal: 13s\tremaining: 15.1s\n",
            "463:\tlearn: 0.1781532\ttotal: 13s\tremaining: 15.1s\n",
            "464:\tlearn: 0.1780484\ttotal: 13.1s\tremaining: 15s\n",
            "465:\tlearn: 0.1779182\ttotal: 13.1s\tremaining: 15s\n",
            "466:\tlearn: 0.1778627\ttotal: 13.1s\tremaining: 15s\n",
            "467:\tlearn: 0.1778371\ttotal: 13.1s\tremaining: 14.9s\n",
            "468:\tlearn: 0.1777434\ttotal: 13.2s\tremaining: 14.9s\n",
            "469:\tlearn: 0.1776646\ttotal: 13.2s\tremaining: 14.9s\n",
            "470:\tlearn: 0.1775514\ttotal: 13.2s\tremaining: 14.9s\n",
            "471:\tlearn: 0.1774470\ttotal: 13.3s\tremaining: 14.8s\n",
            "472:\tlearn: 0.1773232\ttotal: 13.3s\tremaining: 14.8s\n",
            "473:\tlearn: 0.1771746\ttotal: 13.3s\tremaining: 14.8s\n",
            "474:\tlearn: 0.1770896\ttotal: 13.3s\tremaining: 14.7s\n",
            "475:\tlearn: 0.1770488\ttotal: 13.4s\tremaining: 14.7s\n",
            "476:\tlearn: 0.1769102\ttotal: 13.4s\tremaining: 14.7s\n",
            "477:\tlearn: 0.1768851\ttotal: 13.4s\tremaining: 14.7s\n",
            "478:\tlearn: 0.1767299\ttotal: 13.4s\tremaining: 14.6s\n",
            "479:\tlearn: 0.1766345\ttotal: 13.5s\tremaining: 14.6s\n",
            "480:\tlearn: 0.1765867\ttotal: 13.5s\tremaining: 14.6s\n",
            "481:\tlearn: 0.1765088\ttotal: 13.5s\tremaining: 14.5s\n",
            "482:\tlearn: 0.1764835\ttotal: 13.6s\tremaining: 14.5s\n",
            "483:\tlearn: 0.1763771\ttotal: 13.6s\tremaining: 14.5s\n",
            "484:\tlearn: 0.1763101\ttotal: 13.6s\tremaining: 14.5s\n",
            "485:\tlearn: 0.1762718\ttotal: 13.6s\tremaining: 14.4s\n",
            "486:\tlearn: 0.1761995\ttotal: 13.7s\tremaining: 14.4s\n",
            "487:\tlearn: 0.1761682\ttotal: 13.7s\tremaining: 14.4s\n",
            "488:\tlearn: 0.1761208\ttotal: 13.7s\tremaining: 14.3s\n",
            "489:\tlearn: 0.1760439\ttotal: 13.7s\tremaining: 14.3s\n",
            "490:\tlearn: 0.1759525\ttotal: 13.8s\tremaining: 14.3s\n",
            "491:\tlearn: 0.1759096\ttotal: 13.8s\tremaining: 14.3s\n",
            "492:\tlearn: 0.1758325\ttotal: 13.8s\tremaining: 14.2s\n",
            "493:\tlearn: 0.1757740\ttotal: 13.9s\tremaining: 14.2s\n",
            "494:\tlearn: 0.1756363\ttotal: 13.9s\tremaining: 14.2s\n",
            "495:\tlearn: 0.1755856\ttotal: 13.9s\tremaining: 14.1s\n",
            "496:\tlearn: 0.1754795\ttotal: 13.9s\tremaining: 14.1s\n",
            "497:\tlearn: 0.1754378\ttotal: 14s\tremaining: 14.1s\n",
            "498:\tlearn: 0.1753106\ttotal: 14s\tremaining: 14.1s\n",
            "499:\tlearn: 0.1752015\ttotal: 14s\tremaining: 14s\n",
            "500:\tlearn: 0.1750678\ttotal: 14.1s\tremaining: 14s\n",
            "501:\tlearn: 0.1749711\ttotal: 14.1s\tremaining: 14s\n",
            "502:\tlearn: 0.1748535\ttotal: 14.1s\tremaining: 14s\n",
            "503:\tlearn: 0.1747703\ttotal: 14.2s\tremaining: 13.9s\n",
            "504:\tlearn: 0.1746947\ttotal: 14.2s\tremaining: 13.9s\n",
            "505:\tlearn: 0.1745741\ttotal: 14.2s\tremaining: 13.9s\n",
            "506:\tlearn: 0.1744689\ttotal: 14.2s\tremaining: 13.8s\n",
            "507:\tlearn: 0.1744036\ttotal: 14.3s\tremaining: 13.8s\n",
            "508:\tlearn: 0.1743790\ttotal: 14.3s\tremaining: 13.8s\n",
            "509:\tlearn: 0.1742636\ttotal: 14.3s\tremaining: 13.8s\n",
            "510:\tlearn: 0.1741749\ttotal: 14.4s\tremaining: 13.7s\n",
            "511:\tlearn: 0.1740840\ttotal: 14.4s\tremaining: 13.7s\n",
            "512:\tlearn: 0.1740289\ttotal: 14.4s\tremaining: 13.7s\n",
            "513:\tlearn: 0.1739728\ttotal: 14.4s\tremaining: 13.7s\n",
            "514:\tlearn: 0.1738539\ttotal: 14.5s\tremaining: 13.6s\n",
            "515:\tlearn: 0.1738302\ttotal: 14.5s\tremaining: 13.6s\n",
            "516:\tlearn: 0.1737547\ttotal: 14.5s\tremaining: 13.6s\n",
            "517:\tlearn: 0.1736829\ttotal: 14.6s\tremaining: 13.6s\n",
            "518:\tlearn: 0.1736456\ttotal: 14.6s\tremaining: 13.5s\n",
            "519:\tlearn: 0.1735600\ttotal: 14.6s\tremaining: 13.5s\n",
            "520:\tlearn: 0.1734489\ttotal: 14.7s\tremaining: 13.5s\n",
            "521:\tlearn: 0.1732230\ttotal: 14.7s\tremaining: 13.4s\n",
            "522:\tlearn: 0.1731442\ttotal: 14.7s\tremaining: 13.4s\n",
            "523:\tlearn: 0.1730237\ttotal: 14.7s\tremaining: 13.4s\n",
            "524:\tlearn: 0.1729909\ttotal: 14.8s\tremaining: 13.4s\n",
            "525:\tlearn: 0.1729437\ttotal: 14.8s\tremaining: 13.3s\n",
            "526:\tlearn: 0.1728789\ttotal: 14.8s\tremaining: 13.3s\n",
            "527:\tlearn: 0.1728388\ttotal: 14.9s\tremaining: 13.3s\n",
            "528:\tlearn: 0.1727010\ttotal: 14.9s\tremaining: 13.3s\n",
            "529:\tlearn: 0.1725880\ttotal: 14.9s\tremaining: 13.2s\n",
            "530:\tlearn: 0.1725636\ttotal: 15s\tremaining: 13.2s\n",
            "531:\tlearn: 0.1725185\ttotal: 15s\tremaining: 13.2s\n",
            "532:\tlearn: 0.1724281\ttotal: 15s\tremaining: 13.2s\n",
            "533:\tlearn: 0.1722880\ttotal: 15s\tremaining: 13.1s\n",
            "534:\tlearn: 0.1722367\ttotal: 15.1s\tremaining: 13.1s\n",
            "535:\tlearn: 0.1722110\ttotal: 15.1s\tremaining: 13.1s\n",
            "536:\tlearn: 0.1721533\ttotal: 15.1s\tremaining: 13s\n",
            "537:\tlearn: 0.1720929\ttotal: 15.2s\tremaining: 13s\n",
            "538:\tlearn: 0.1719951\ttotal: 15.2s\tremaining: 13s\n",
            "539:\tlearn: 0.1719035\ttotal: 15.2s\tremaining: 13s\n",
            "540:\tlearn: 0.1718061\ttotal: 15.2s\tremaining: 12.9s\n",
            "541:\tlearn: 0.1717625\ttotal: 15.3s\tremaining: 12.9s\n",
            "542:\tlearn: 0.1716640\ttotal: 15.3s\tremaining: 12.9s\n",
            "543:\tlearn: 0.1715923\ttotal: 15.3s\tremaining: 12.9s\n",
            "544:\tlearn: 0.1715443\ttotal: 15.4s\tremaining: 12.8s\n",
            "545:\tlearn: 0.1714256\ttotal: 15.4s\tremaining: 12.8s\n",
            "546:\tlearn: 0.1714000\ttotal: 15.4s\tremaining: 12.8s\n",
            "547:\tlearn: 0.1713371\ttotal: 15.5s\tremaining: 12.7s\n",
            "548:\tlearn: 0.1711642\ttotal: 15.5s\tremaining: 12.7s\n",
            "549:\tlearn: 0.1710617\ttotal: 15.5s\tremaining: 12.7s\n",
            "550:\tlearn: 0.1709649\ttotal: 15.5s\tremaining: 12.7s\n",
            "551:\tlearn: 0.1709205\ttotal: 15.6s\tremaining: 12.6s\n",
            "552:\tlearn: 0.1708661\ttotal: 15.6s\tremaining: 12.6s\n",
            "553:\tlearn: 0.1708399\ttotal: 15.6s\tremaining: 12.6s\n",
            "554:\tlearn: 0.1706869\ttotal: 15.7s\tremaining: 12.6s\n",
            "555:\tlearn: 0.1706458\ttotal: 15.7s\tremaining: 12.5s\n",
            "556:\tlearn: 0.1705524\ttotal: 15.7s\tremaining: 12.5s\n",
            "557:\tlearn: 0.1704280\ttotal: 15.7s\tremaining: 12.5s\n",
            "558:\tlearn: 0.1703226\ttotal: 15.8s\tremaining: 12.4s\n",
            "559:\tlearn: 0.1702050\ttotal: 15.8s\tremaining: 12.4s\n",
            "560:\tlearn: 0.1701285\ttotal: 15.8s\tremaining: 12.4s\n",
            "561:\tlearn: 0.1700623\ttotal: 15.9s\tremaining: 12.4s\n",
            "562:\tlearn: 0.1700206\ttotal: 15.9s\tremaining: 12.3s\n",
            "563:\tlearn: 0.1699115\ttotal: 15.9s\tremaining: 12.3s\n",
            "564:\tlearn: 0.1698066\ttotal: 15.9s\tremaining: 12.3s\n",
            "565:\tlearn: 0.1697243\ttotal: 16s\tremaining: 12.3s\n",
            "566:\tlearn: 0.1696223\ttotal: 16s\tremaining: 12.2s\n",
            "567:\tlearn: 0.1695724\ttotal: 16s\tremaining: 12.2s\n",
            "568:\tlearn: 0.1695332\ttotal: 16.1s\tremaining: 12.2s\n",
            "569:\tlearn: 0.1694441\ttotal: 16.1s\tremaining: 12.1s\n",
            "570:\tlearn: 0.1693133\ttotal: 16.1s\tremaining: 12.1s\n",
            "571:\tlearn: 0.1692399\ttotal: 16.2s\tremaining: 12.1s\n",
            "572:\tlearn: 0.1691952\ttotal: 16.2s\tremaining: 12.1s\n",
            "573:\tlearn: 0.1691721\ttotal: 16.2s\tremaining: 12s\n",
            "574:\tlearn: 0.1690870\ttotal: 16.2s\tremaining: 12s\n",
            "575:\tlearn: 0.1690368\ttotal: 16.3s\tremaining: 12s\n",
            "576:\tlearn: 0.1689629\ttotal: 16.3s\tremaining: 12s\n",
            "577:\tlearn: 0.1688553\ttotal: 16.3s\tremaining: 11.9s\n",
            "578:\tlearn: 0.1688230\ttotal: 16.4s\tremaining: 11.9s\n",
            "579:\tlearn: 0.1687444\ttotal: 16.4s\tremaining: 11.9s\n",
            "580:\tlearn: 0.1686881\ttotal: 16.4s\tremaining: 11.8s\n",
            "581:\tlearn: 0.1686032\ttotal: 16.4s\tremaining: 11.8s\n",
            "582:\tlearn: 0.1685075\ttotal: 16.5s\tremaining: 11.8s\n",
            "583:\tlearn: 0.1684082\ttotal: 16.5s\tremaining: 11.8s\n",
            "584:\tlearn: 0.1683855\ttotal: 16.5s\tremaining: 11.7s\n",
            "585:\tlearn: 0.1683630\ttotal: 16.6s\tremaining: 11.7s\n",
            "586:\tlearn: 0.1683278\ttotal: 16.6s\tremaining: 11.7s\n",
            "587:\tlearn: 0.1682469\ttotal: 16.6s\tremaining: 11.6s\n",
            "588:\tlearn: 0.1681514\ttotal: 16.7s\tremaining: 11.6s\n",
            "589:\tlearn: 0.1680812\ttotal: 16.7s\tremaining: 11.6s\n",
            "590:\tlearn: 0.1680601\ttotal: 16.7s\tremaining: 11.6s\n",
            "591:\tlearn: 0.1679608\ttotal: 16.7s\tremaining: 11.5s\n",
            "592:\tlearn: 0.1679236\ttotal: 16.8s\tremaining: 11.5s\n",
            "593:\tlearn: 0.1678359\ttotal: 16.8s\tremaining: 11.5s\n",
            "594:\tlearn: 0.1677574\ttotal: 16.8s\tremaining: 11.5s\n",
            "595:\tlearn: 0.1677010\ttotal: 16.9s\tremaining: 11.4s\n",
            "596:\tlearn: 0.1676169\ttotal: 16.9s\tremaining: 11.4s\n",
            "597:\tlearn: 0.1675473\ttotal: 16.9s\tremaining: 11.4s\n",
            "598:\tlearn: 0.1674484\ttotal: 16.9s\tremaining: 11.3s\n",
            "599:\tlearn: 0.1674050\ttotal: 17s\tremaining: 11.3s\n",
            "600:\tlearn: 0.1672989\ttotal: 17s\tremaining: 11.3s\n",
            "601:\tlearn: 0.1672187\ttotal: 17s\tremaining: 11.3s\n",
            "602:\tlearn: 0.1671339\ttotal: 17.1s\tremaining: 11.2s\n",
            "603:\tlearn: 0.1670186\ttotal: 17.1s\tremaining: 11.2s\n",
            "604:\tlearn: 0.1669498\ttotal: 17.1s\tremaining: 11.2s\n",
            "605:\tlearn: 0.1668657\ttotal: 17.2s\tremaining: 11.2s\n",
            "606:\tlearn: 0.1668415\ttotal: 17.2s\tremaining: 11.1s\n",
            "607:\tlearn: 0.1667221\ttotal: 17.2s\tremaining: 11.1s\n",
            "608:\tlearn: 0.1666689\ttotal: 17.3s\tremaining: 11.1s\n",
            "609:\tlearn: 0.1666477\ttotal: 17.3s\tremaining: 11s\n",
            "610:\tlearn: 0.1665840\ttotal: 17.3s\tremaining: 11s\n",
            "611:\tlearn: 0.1664992\ttotal: 17.3s\tremaining: 11s\n",
            "612:\tlearn: 0.1664254\ttotal: 17.4s\tremaining: 11s\n",
            "613:\tlearn: 0.1664034\ttotal: 17.4s\tremaining: 10.9s\n",
            "614:\tlearn: 0.1663822\ttotal: 17.4s\tremaining: 10.9s\n",
            "615:\tlearn: 0.1662963\ttotal: 17.5s\tremaining: 10.9s\n",
            "616:\tlearn: 0.1662340\ttotal: 17.5s\tremaining: 10.9s\n",
            "617:\tlearn: 0.1662134\ttotal: 17.5s\tremaining: 10.8s\n",
            "618:\tlearn: 0.1661196\ttotal: 17.5s\tremaining: 10.8s\n",
            "619:\tlearn: 0.1660555\ttotal: 17.6s\tremaining: 10.8s\n",
            "620:\tlearn: 0.1659970\ttotal: 17.6s\tremaining: 10.7s\n",
            "621:\tlearn: 0.1659433\ttotal: 17.6s\tremaining: 10.7s\n",
            "622:\tlearn: 0.1658805\ttotal: 17.6s\tremaining: 10.7s\n",
            "623:\tlearn: 0.1657981\ttotal: 17.7s\tremaining: 10.7s\n",
            "624:\tlearn: 0.1657369\ttotal: 17.7s\tremaining: 10.6s\n",
            "625:\tlearn: 0.1656397\ttotal: 17.7s\tremaining: 10.6s\n",
            "626:\tlearn: 0.1656202\ttotal: 17.8s\tremaining: 10.6s\n",
            "627:\tlearn: 0.1655343\ttotal: 17.8s\tremaining: 10.5s\n",
            "628:\tlearn: 0.1654249\ttotal: 17.8s\tremaining: 10.5s\n",
            "629:\tlearn: 0.1653763\ttotal: 17.9s\tremaining: 10.5s\n",
            "630:\tlearn: 0.1652902\ttotal: 17.9s\tremaining: 10.5s\n",
            "631:\tlearn: 0.1652044\ttotal: 17.9s\tremaining: 10.4s\n",
            "632:\tlearn: 0.1651728\ttotal: 17.9s\tremaining: 10.4s\n",
            "633:\tlearn: 0.1651236\ttotal: 18s\tremaining: 10.4s\n",
            "634:\tlearn: 0.1650747\ttotal: 18s\tremaining: 10.3s\n",
            "635:\tlearn: 0.1650434\ttotal: 18s\tremaining: 10.3s\n",
            "636:\tlearn: 0.1649636\ttotal: 18s\tremaining: 10.3s\n",
            "637:\tlearn: 0.1649096\ttotal: 18.1s\tremaining: 10.3s\n",
            "638:\tlearn: 0.1648007\ttotal: 18.1s\tremaining: 10.2s\n",
            "639:\tlearn: 0.1646961\ttotal: 18.2s\tremaining: 10.2s\n",
            "640:\tlearn: 0.1646611\ttotal: 18.2s\tremaining: 10.2s\n",
            "641:\tlearn: 0.1645986\ttotal: 18.2s\tremaining: 10.2s\n",
            "642:\tlearn: 0.1645176\ttotal: 18.3s\tremaining: 10.1s\n",
            "643:\tlearn: 0.1644972\ttotal: 18.3s\tremaining: 10.1s\n",
            "644:\tlearn: 0.1644482\ttotal: 18.3s\tremaining: 10.1s\n",
            "645:\tlearn: 0.1644289\ttotal: 18.3s\tremaining: 10s\n",
            "646:\tlearn: 0.1643905\ttotal: 18.4s\tremaining: 10s\n",
            "647:\tlearn: 0.1643030\ttotal: 18.4s\tremaining: 9.99s\n",
            "648:\tlearn: 0.1642836\ttotal: 18.4s\tremaining: 9.96s\n",
            "649:\tlearn: 0.1642263\ttotal: 18.4s\tremaining: 9.93s\n",
            "650:\tlearn: 0.1641651\ttotal: 18.5s\tremaining: 9.9s\n",
            "651:\tlearn: 0.1641275\ttotal: 18.5s\tremaining: 9.87s\n",
            "652:\tlearn: 0.1641054\ttotal: 18.5s\tremaining: 9.85s\n",
            "653:\tlearn: 0.1640484\ttotal: 18.6s\tremaining: 9.82s\n",
            "654:\tlearn: 0.1639742\ttotal: 18.6s\tremaining: 9.79s\n",
            "655:\tlearn: 0.1638679\ttotal: 18.6s\tremaining: 9.76s\n",
            "656:\tlearn: 0.1638323\ttotal: 18.6s\tremaining: 9.73s\n",
            "657:\tlearn: 0.1637915\ttotal: 18.7s\tremaining: 9.7s\n",
            "658:\tlearn: 0.1637387\ttotal: 18.7s\tremaining: 9.68s\n",
            "659:\tlearn: 0.1636426\ttotal: 18.7s\tremaining: 9.65s\n",
            "660:\tlearn: 0.1635676\ttotal: 18.8s\tremaining: 9.62s\n",
            "661:\tlearn: 0.1635368\ttotal: 18.8s\tremaining: 9.59s\n",
            "662:\tlearn: 0.1634729\ttotal: 18.8s\tremaining: 9.56s\n",
            "663:\tlearn: 0.1634245\ttotal: 18.8s\tremaining: 9.53s\n",
            "664:\tlearn: 0.1634044\ttotal: 18.9s\tremaining: 9.51s\n",
            "665:\tlearn: 0.1633857\ttotal: 18.9s\tremaining: 9.48s\n",
            "666:\tlearn: 0.1633250\ttotal: 18.9s\tremaining: 9.45s\n",
            "667:\tlearn: 0.1632596\ttotal: 19s\tremaining: 9.42s\n",
            "668:\tlearn: 0.1631638\ttotal: 19s\tremaining: 9.39s\n",
            "669:\tlearn: 0.1630560\ttotal: 19s\tremaining: 9.36s\n",
            "670:\tlearn: 0.1629616\ttotal: 19s\tremaining: 9.33s\n",
            "671:\tlearn: 0.1629429\ttotal: 19.1s\tremaining: 9.3s\n",
            "672:\tlearn: 0.1628829\ttotal: 19.1s\tremaining: 9.28s\n",
            "673:\tlearn: 0.1628638\ttotal: 19.1s\tremaining: 9.25s\n",
            "674:\tlearn: 0.1628286\ttotal: 19.2s\tremaining: 9.22s\n",
            "675:\tlearn: 0.1627883\ttotal: 19.2s\tremaining: 9.19s\n",
            "676:\tlearn: 0.1627698\ttotal: 19.2s\tremaining: 9.16s\n",
            "677:\tlearn: 0.1626688\ttotal: 19.2s\tremaining: 9.14s\n",
            "678:\tlearn: 0.1626269\ttotal: 19.3s\tremaining: 9.11s\n",
            "679:\tlearn: 0.1625823\ttotal: 19.3s\tremaining: 9.08s\n",
            "680:\tlearn: 0.1625248\ttotal: 19.3s\tremaining: 9.05s\n",
            "681:\tlearn: 0.1624595\ttotal: 19.4s\tremaining: 9.03s\n",
            "682:\tlearn: 0.1624402\ttotal: 19.4s\tremaining: 9s\n",
            "683:\tlearn: 0.1623817\ttotal: 19.4s\tremaining: 8.97s\n",
            "684:\tlearn: 0.1623152\ttotal: 19.4s\tremaining: 8.94s\n",
            "685:\tlearn: 0.1622669\ttotal: 19.5s\tremaining: 8.91s\n",
            "686:\tlearn: 0.1622454\ttotal: 19.5s\tremaining: 8.88s\n",
            "687:\tlearn: 0.1622051\ttotal: 19.5s\tremaining: 8.85s\n",
            "688:\tlearn: 0.1621491\ttotal: 19.5s\tremaining: 8.82s\n",
            "689:\tlearn: 0.1620823\ttotal: 19.6s\tremaining: 8.8s\n",
            "690:\tlearn: 0.1619725\ttotal: 19.6s\tremaining: 8.77s\n",
            "691:\tlearn: 0.1619356\ttotal: 19.6s\tremaining: 8.74s\n",
            "692:\tlearn: 0.1618146\ttotal: 19.7s\tremaining: 8.71s\n",
            "693:\tlearn: 0.1617018\ttotal: 19.7s\tremaining: 8.69s\n",
            "694:\tlearn: 0.1616507\ttotal: 19.7s\tremaining: 8.66s\n",
            "695:\tlearn: 0.1615737\ttotal: 19.8s\tremaining: 8.63s\n",
            "696:\tlearn: 0.1615402\ttotal: 19.8s\tremaining: 8.6s\n",
            "697:\tlearn: 0.1614736\ttotal: 19.8s\tremaining: 8.57s\n",
            "698:\tlearn: 0.1613971\ttotal: 19.8s\tremaining: 8.54s\n",
            "699:\tlearn: 0.1613306\ttotal: 19.9s\tremaining: 8.51s\n",
            "700:\tlearn: 0.1612463\ttotal: 19.9s\tremaining: 8.48s\n",
            "701:\tlearn: 0.1612269\ttotal: 19.9s\tremaining: 8.46s\n",
            "702:\tlearn: 0.1611546\ttotal: 20s\tremaining: 8.43s\n",
            "703:\tlearn: 0.1610650\ttotal: 20s\tremaining: 8.4s\n",
            "704:\tlearn: 0.1610069\ttotal: 20s\tremaining: 8.37s\n",
            "705:\tlearn: 0.1609346\ttotal: 20s\tremaining: 8.35s\n",
            "706:\tlearn: 0.1608341\ttotal: 20.1s\tremaining: 8.32s\n",
            "707:\tlearn: 0.1607611\ttotal: 20.1s\tremaining: 8.29s\n",
            "708:\tlearn: 0.1607164\ttotal: 20.1s\tremaining: 8.26s\n",
            "709:\tlearn: 0.1606476\ttotal: 20.2s\tremaining: 8.23s\n",
            "710:\tlearn: 0.1605846\ttotal: 20.2s\tremaining: 8.21s\n",
            "711:\tlearn: 0.1605188\ttotal: 20.2s\tremaining: 8.18s\n",
            "712:\tlearn: 0.1605004\ttotal: 20.3s\tremaining: 8.15s\n",
            "713:\tlearn: 0.1604323\ttotal: 20.3s\tremaining: 8.12s\n",
            "714:\tlearn: 0.1603897\ttotal: 20.3s\tremaining: 8.1s\n",
            "715:\tlearn: 0.1603410\ttotal: 20.3s\tremaining: 8.07s\n",
            "716:\tlearn: 0.1603076\ttotal: 20.4s\tremaining: 8.04s\n",
            "717:\tlearn: 0.1602743\ttotal: 20.4s\tremaining: 8.01s\n",
            "718:\tlearn: 0.1602305\ttotal: 20.4s\tremaining: 7.99s\n",
            "719:\tlearn: 0.1601821\ttotal: 20.5s\tremaining: 7.96s\n",
            "720:\tlearn: 0.1601522\ttotal: 20.5s\tremaining: 7.93s\n",
            "721:\tlearn: 0.1601282\ttotal: 20.5s\tremaining: 7.9s\n",
            "722:\tlearn: 0.1600476\ttotal: 20.5s\tremaining: 7.87s\n",
            "723:\tlearn: 0.1600098\ttotal: 20.6s\tremaining: 7.84s\n",
            "724:\tlearn: 0.1599278\ttotal: 20.6s\tremaining: 7.81s\n",
            "725:\tlearn: 0.1598781\ttotal: 20.6s\tremaining: 7.79s\n",
            "726:\tlearn: 0.1598408\ttotal: 20.7s\tremaining: 7.76s\n",
            "727:\tlearn: 0.1597882\ttotal: 20.7s\tremaining: 7.73s\n",
            "728:\tlearn: 0.1597129\ttotal: 20.7s\tremaining: 7.7s\n",
            "729:\tlearn: 0.1596934\ttotal: 20.8s\tremaining: 7.67s\n",
            "730:\tlearn: 0.1596752\ttotal: 20.8s\tremaining: 7.64s\n",
            "731:\tlearn: 0.1596444\ttotal: 20.8s\tremaining: 7.62s\n",
            "732:\tlearn: 0.1595956\ttotal: 20.8s\tremaining: 7.59s\n",
            "733:\tlearn: 0.1595244\ttotal: 20.9s\tremaining: 7.56s\n",
            "734:\tlearn: 0.1595067\ttotal: 20.9s\tremaining: 7.53s\n",
            "735:\tlearn: 0.1594589\ttotal: 20.9s\tremaining: 7.5s\n",
            "736:\tlearn: 0.1593666\ttotal: 20.9s\tremaining: 7.47s\n",
            "737:\tlearn: 0.1592809\ttotal: 21s\tremaining: 7.45s\n",
            "738:\tlearn: 0.1591979\ttotal: 21s\tremaining: 7.42s\n",
            "739:\tlearn: 0.1591723\ttotal: 21s\tremaining: 7.39s\n",
            "740:\tlearn: 0.1591316\ttotal: 21.1s\tremaining: 7.36s\n",
            "741:\tlearn: 0.1590696\ttotal: 21.1s\tremaining: 7.33s\n",
            "742:\tlearn: 0.1588728\ttotal: 21.1s\tremaining: 7.3s\n",
            "743:\tlearn: 0.1588557\ttotal: 21.1s\tremaining: 7.28s\n",
            "744:\tlearn: 0.1587920\ttotal: 21.2s\tremaining: 7.25s\n",
            "745:\tlearn: 0.1587571\ttotal: 21.2s\tremaining: 7.22s\n",
            "746:\tlearn: 0.1586623\ttotal: 21.2s\tremaining: 7.19s\n",
            "747:\tlearn: 0.1586425\ttotal: 21.3s\tremaining: 7.16s\n",
            "748:\tlearn: 0.1585597\ttotal: 21.3s\tremaining: 7.13s\n",
            "749:\tlearn: 0.1584788\ttotal: 21.3s\tremaining: 7.11s\n",
            "750:\tlearn: 0.1583968\ttotal: 21.3s\tremaining: 7.08s\n",
            "751:\tlearn: 0.1583340\ttotal: 21.4s\tremaining: 7.05s\n",
            "752:\tlearn: 0.1582535\ttotal: 21.4s\tremaining: 7.02s\n",
            "753:\tlearn: 0.1581906\ttotal: 21.4s\tremaining: 6.99s\n",
            "754:\tlearn: 0.1581411\ttotal: 21.5s\tremaining: 6.96s\n",
            "755:\tlearn: 0.1581245\ttotal: 21.5s\tremaining: 6.93s\n",
            "756:\tlearn: 0.1580681\ttotal: 21.5s\tremaining: 6.91s\n",
            "757:\tlearn: 0.1579629\ttotal: 21.5s\tremaining: 6.88s\n",
            "758:\tlearn: 0.1579360\ttotal: 21.6s\tremaining: 6.85s\n",
            "759:\tlearn: 0.1578457\ttotal: 21.6s\tremaining: 6.82s\n",
            "760:\tlearn: 0.1577623\ttotal: 21.6s\tremaining: 6.79s\n",
            "761:\tlearn: 0.1577405\ttotal: 21.7s\tremaining: 6.76s\n",
            "762:\tlearn: 0.1576697\ttotal: 21.7s\tremaining: 6.74s\n",
            "763:\tlearn: 0.1576510\ttotal: 21.7s\tremaining: 6.71s\n",
            "764:\tlearn: 0.1576192\ttotal: 21.8s\tremaining: 6.68s\n",
            "765:\tlearn: 0.1575582\ttotal: 21.8s\tremaining: 6.65s\n",
            "766:\tlearn: 0.1575407\ttotal: 21.8s\tremaining: 6.63s\n",
            "767:\tlearn: 0.1574993\ttotal: 21.8s\tremaining: 6.6s\n",
            "768:\tlearn: 0.1574395\ttotal: 21.9s\tremaining: 6.57s\n",
            "769:\tlearn: 0.1574182\ttotal: 21.9s\tremaining: 6.54s\n",
            "770:\tlearn: 0.1573830\ttotal: 21.9s\tremaining: 6.51s\n",
            "771:\tlearn: 0.1573445\ttotal: 21.9s\tremaining: 6.48s\n",
            "772:\tlearn: 0.1572899\ttotal: 22s\tremaining: 6.45s\n",
            "773:\tlearn: 0.1572733\ttotal: 22s\tremaining: 6.43s\n",
            "774:\tlearn: 0.1571816\ttotal: 22s\tremaining: 6.4s\n",
            "775:\tlearn: 0.1571329\ttotal: 22.1s\tremaining: 6.37s\n",
            "776:\tlearn: 0.1570372\ttotal: 22.1s\tremaining: 6.34s\n",
            "777:\tlearn: 0.1569434\ttotal: 22.1s\tremaining: 6.31s\n",
            "778:\tlearn: 0.1568760\ttotal: 22.2s\tremaining: 6.29s\n",
            "779:\tlearn: 0.1568314\ttotal: 22.2s\tremaining: 6.26s\n",
            "780:\tlearn: 0.1568140\ttotal: 22.2s\tremaining: 6.23s\n",
            "781:\tlearn: 0.1567450\ttotal: 22.3s\tremaining: 6.2s\n",
            "782:\tlearn: 0.1567053\ttotal: 22.3s\tremaining: 6.17s\n",
            "783:\tlearn: 0.1566427\ttotal: 22.3s\tremaining: 6.14s\n",
            "784:\tlearn: 0.1566261\ttotal: 22.3s\tremaining: 6.12s\n",
            "785:\tlearn: 0.1565718\ttotal: 22.4s\tremaining: 6.09s\n",
            "786:\tlearn: 0.1565533\ttotal: 22.4s\tremaining: 6.06s\n",
            "787:\tlearn: 0.1565216\ttotal: 22.4s\tremaining: 6.03s\n",
            "788:\tlearn: 0.1564298\ttotal: 22.5s\tremaining: 6s\n",
            "789:\tlearn: 0.1563728\ttotal: 22.5s\tremaining: 5.98s\n",
            "790:\tlearn: 0.1563113\ttotal: 22.5s\tremaining: 5.95s\n",
            "791:\tlearn: 0.1562188\ttotal: 22.5s\tremaining: 5.92s\n",
            "792:\tlearn: 0.1561527\ttotal: 22.6s\tremaining: 5.89s\n",
            "793:\tlearn: 0.1560677\ttotal: 22.6s\tremaining: 5.86s\n",
            "794:\tlearn: 0.1560317\ttotal: 22.6s\tremaining: 5.83s\n",
            "795:\tlearn: 0.1559850\ttotal: 22.6s\tremaining: 5.8s\n",
            "796:\tlearn: 0.1558986\ttotal: 22.7s\tremaining: 5.78s\n",
            "797:\tlearn: 0.1558385\ttotal: 22.7s\tremaining: 5.75s\n",
            "798:\tlearn: 0.1558218\ttotal: 22.7s\tremaining: 5.72s\n",
            "799:\tlearn: 0.1557563\ttotal: 22.8s\tremaining: 5.69s\n",
            "800:\tlearn: 0.1557215\ttotal: 22.8s\tremaining: 5.66s\n",
            "801:\tlearn: 0.1556854\ttotal: 22.8s\tremaining: 5.63s\n",
            "802:\tlearn: 0.1556260\ttotal: 22.8s\tremaining: 5.6s\n",
            "803:\tlearn: 0.1555540\ttotal: 22.9s\tremaining: 5.58s\n",
            "804:\tlearn: 0.1554812\ttotal: 22.9s\tremaining: 5.55s\n",
            "805:\tlearn: 0.1554656\ttotal: 22.9s\tremaining: 5.52s\n",
            "806:\tlearn: 0.1554215\ttotal: 23s\tremaining: 5.49s\n",
            "807:\tlearn: 0.1553915\ttotal: 23s\tremaining: 5.46s\n",
            "808:\tlearn: 0.1553727\ttotal: 23s\tremaining: 5.43s\n",
            "809:\tlearn: 0.1553328\ttotal: 23s\tremaining: 5.4s\n",
            "810:\tlearn: 0.1553069\ttotal: 23.1s\tremaining: 5.38s\n",
            "811:\tlearn: 0.1552891\ttotal: 23.1s\tremaining: 5.35s\n",
            "812:\tlearn: 0.1552730\ttotal: 23.1s\tremaining: 5.32s\n",
            "813:\tlearn: 0.1552443\ttotal: 23.2s\tremaining: 5.29s\n",
            "814:\tlearn: 0.1552110\ttotal: 23.2s\tremaining: 5.27s\n",
            "815:\tlearn: 0.1551390\ttotal: 23.2s\tremaining: 5.24s\n",
            "816:\tlearn: 0.1550706\ttotal: 23.3s\tremaining: 5.21s\n",
            "817:\tlearn: 0.1549980\ttotal: 23.3s\tremaining: 5.18s\n",
            "818:\tlearn: 0.1549678\ttotal: 23.3s\tremaining: 5.15s\n",
            "819:\tlearn: 0.1549514\ttotal: 23.3s\tremaining: 5.12s\n",
            "820:\tlearn: 0.1548820\ttotal: 23.4s\tremaining: 5.09s\n",
            "821:\tlearn: 0.1548342\ttotal: 23.4s\tremaining: 5.07s\n",
            "822:\tlearn: 0.1548188\ttotal: 23.4s\tremaining: 5.04s\n",
            "823:\tlearn: 0.1547538\ttotal: 23.4s\tremaining: 5.01s\n",
            "824:\tlearn: 0.1546728\ttotal: 23.5s\tremaining: 4.98s\n",
            "825:\tlearn: 0.1546004\ttotal: 23.5s\tremaining: 4.95s\n",
            "826:\tlearn: 0.1544375\ttotal: 23.5s\tremaining: 4.92s\n",
            "827:\tlearn: 0.1544002\ttotal: 23.6s\tremaining: 4.89s\n",
            "828:\tlearn: 0.1543477\ttotal: 23.6s\tremaining: 4.87s\n",
            "829:\tlearn: 0.1542625\ttotal: 23.6s\tremaining: 4.84s\n",
            "830:\tlearn: 0.1542049\ttotal: 23.6s\tremaining: 4.81s\n",
            "831:\tlearn: 0.1541881\ttotal: 23.7s\tremaining: 4.78s\n",
            "832:\tlearn: 0.1541099\ttotal: 23.7s\tremaining: 4.75s\n",
            "833:\tlearn: 0.1540844\ttotal: 23.7s\tremaining: 4.72s\n",
            "834:\tlearn: 0.1540153\ttotal: 23.8s\tremaining: 4.7s\n",
            "835:\tlearn: 0.1539523\ttotal: 23.8s\tremaining: 4.67s\n",
            "836:\tlearn: 0.1538670\ttotal: 23.8s\tremaining: 4.64s\n",
            "837:\tlearn: 0.1538002\ttotal: 23.8s\tremaining: 4.61s\n",
            "838:\tlearn: 0.1537205\ttotal: 23.9s\tremaining: 4.58s\n",
            "839:\tlearn: 0.1536658\ttotal: 23.9s\tremaining: 4.55s\n",
            "840:\tlearn: 0.1535974\ttotal: 23.9s\tremaining: 4.52s\n",
            "841:\tlearn: 0.1535339\ttotal: 24s\tremaining: 4.5s\n",
            "842:\tlearn: 0.1534574\ttotal: 24s\tremaining: 4.47s\n",
            "843:\tlearn: 0.1534404\ttotal: 24s\tremaining: 4.44s\n",
            "844:\tlearn: 0.1534008\ttotal: 24s\tremaining: 4.41s\n",
            "845:\tlearn: 0.1533602\ttotal: 24.1s\tremaining: 4.38s\n",
            "846:\tlearn: 0.1533214\ttotal: 24.1s\tremaining: 4.35s\n",
            "847:\tlearn: 0.1533023\ttotal: 24.1s\tremaining: 4.32s\n",
            "848:\tlearn: 0.1532849\ttotal: 24.1s\tremaining: 4.29s\n",
            "849:\tlearn: 0.1532424\ttotal: 24.2s\tremaining: 4.27s\n",
            "850:\tlearn: 0.1531697\ttotal: 24.2s\tremaining: 4.24s\n",
            "851:\tlearn: 0.1531015\ttotal: 24.2s\tremaining: 4.21s\n",
            "852:\tlearn: 0.1530833\ttotal: 24.3s\tremaining: 4.18s\n",
            "853:\tlearn: 0.1530102\ttotal: 24.3s\tremaining: 4.15s\n",
            "854:\tlearn: 0.1529954\ttotal: 24.3s\tremaining: 4.12s\n",
            "855:\tlearn: 0.1529316\ttotal: 24.3s\tremaining: 4.09s\n",
            "856:\tlearn: 0.1529168\ttotal: 24.4s\tremaining: 4.07s\n",
            "857:\tlearn: 0.1528574\ttotal: 24.4s\tremaining: 4.04s\n",
            "858:\tlearn: 0.1527901\ttotal: 24.4s\tremaining: 4.01s\n",
            "859:\tlearn: 0.1527081\ttotal: 24.4s\tremaining: 3.98s\n",
            "860:\tlearn: 0.1526712\ttotal: 24.5s\tremaining: 3.95s\n",
            "861:\tlearn: 0.1525817\ttotal: 24.5s\tremaining: 3.92s\n",
            "862:\tlearn: 0.1525189\ttotal: 24.5s\tremaining: 3.89s\n",
            "863:\tlearn: 0.1524852\ttotal: 24.6s\tremaining: 3.87s\n",
            "864:\tlearn: 0.1524712\ttotal: 24.6s\tremaining: 3.84s\n",
            "865:\tlearn: 0.1524114\ttotal: 24.6s\tremaining: 3.81s\n",
            "866:\tlearn: 0.1523972\ttotal: 24.6s\tremaining: 3.78s\n",
            "867:\tlearn: 0.1523410\ttotal: 24.7s\tremaining: 3.75s\n",
            "868:\tlearn: 0.1522718\ttotal: 24.7s\tremaining: 3.72s\n",
            "869:\tlearn: 0.1522161\ttotal: 24.7s\tremaining: 3.69s\n",
            "870:\tlearn: 0.1521581\ttotal: 24.7s\tremaining: 3.67s\n",
            "871:\tlearn: 0.1520906\ttotal: 24.8s\tremaining: 3.64s\n",
            "872:\tlearn: 0.1520761\ttotal: 24.8s\tremaining: 3.61s\n",
            "873:\tlearn: 0.1520596\ttotal: 24.8s\tremaining: 3.58s\n",
            "874:\tlearn: 0.1520455\ttotal: 24.9s\tremaining: 3.55s\n",
            "875:\tlearn: 0.1520301\ttotal: 24.9s\tremaining: 3.52s\n",
            "876:\tlearn: 0.1519869\ttotal: 24.9s\tremaining: 3.49s\n",
            "877:\tlearn: 0.1519385\ttotal: 24.9s\tremaining: 3.46s\n",
            "878:\tlearn: 0.1519194\ttotal: 25s\tremaining: 3.44s\n",
            "879:\tlearn: 0.1519017\ttotal: 25s\tremaining: 3.41s\n",
            "880:\tlearn: 0.1518785\ttotal: 25s\tremaining: 3.38s\n",
            "881:\tlearn: 0.1518275\ttotal: 25.1s\tremaining: 3.35s\n",
            "882:\tlearn: 0.1518116\ttotal: 25.1s\tremaining: 3.32s\n",
            "883:\tlearn: 0.1517829\ttotal: 25.1s\tremaining: 3.29s\n",
            "884:\tlearn: 0.1517246\ttotal: 25.1s\tremaining: 3.27s\n",
            "885:\tlearn: 0.1517102\ttotal: 25.2s\tremaining: 3.24s\n",
            "886:\tlearn: 0.1516907\ttotal: 25.2s\tremaining: 3.21s\n",
            "887:\tlearn: 0.1516624\ttotal: 25.2s\tremaining: 3.18s\n",
            "888:\tlearn: 0.1516104\ttotal: 25.3s\tremaining: 3.15s\n",
            "889:\tlearn: 0.1515419\ttotal: 25.3s\tremaining: 3.12s\n",
            "890:\tlearn: 0.1514853\ttotal: 25.3s\tremaining: 3.1s\n",
            "891:\tlearn: 0.1514318\ttotal: 25.3s\tremaining: 3.07s\n",
            "892:\tlearn: 0.1513909\ttotal: 25.4s\tremaining: 3.04s\n",
            "893:\tlearn: 0.1512763\ttotal: 25.4s\tremaining: 3.01s\n",
            "894:\tlearn: 0.1512504\ttotal: 25.4s\tremaining: 2.98s\n",
            "895:\tlearn: 0.1512340\ttotal: 25.4s\tremaining: 2.95s\n",
            "896:\tlearn: 0.1511984\ttotal: 25.5s\tremaining: 2.92s\n",
            "897:\tlearn: 0.1511568\ttotal: 25.5s\tremaining: 2.9s\n",
            "898:\tlearn: 0.1510903\ttotal: 25.5s\tremaining: 2.87s\n",
            "899:\tlearn: 0.1510412\ttotal: 25.6s\tremaining: 2.84s\n",
            "900:\tlearn: 0.1509942\ttotal: 25.6s\tremaining: 2.81s\n",
            "901:\tlearn: 0.1509410\ttotal: 25.6s\tremaining: 2.78s\n",
            "902:\tlearn: 0.1508813\ttotal: 25.7s\tremaining: 2.75s\n",
            "903:\tlearn: 0.1507925\ttotal: 25.7s\tremaining: 2.73s\n",
            "904:\tlearn: 0.1507323\ttotal: 25.7s\tremaining: 2.7s\n",
            "905:\tlearn: 0.1507156\ttotal: 25.7s\tremaining: 2.67s\n",
            "906:\tlearn: 0.1506753\ttotal: 25.8s\tremaining: 2.64s\n",
            "907:\tlearn: 0.1505997\ttotal: 25.8s\tremaining: 2.61s\n",
            "908:\tlearn: 0.1505506\ttotal: 25.8s\tremaining: 2.58s\n",
            "909:\tlearn: 0.1505021\ttotal: 25.8s\tremaining: 2.56s\n",
            "910:\tlearn: 0.1504482\ttotal: 25.9s\tremaining: 2.53s\n",
            "911:\tlearn: 0.1503834\ttotal: 25.9s\tremaining: 2.5s\n",
            "912:\tlearn: 0.1503478\ttotal: 25.9s\tremaining: 2.47s\n",
            "913:\tlearn: 0.1502572\ttotal: 26s\tremaining: 2.44s\n",
            "914:\tlearn: 0.1502260\ttotal: 26s\tremaining: 2.41s\n",
            "915:\tlearn: 0.1501608\ttotal: 26s\tremaining: 2.39s\n",
            "916:\tlearn: 0.1501126\ttotal: 26s\tremaining: 2.36s\n",
            "917:\tlearn: 0.1500987\ttotal: 26.1s\tremaining: 2.33s\n",
            "918:\tlearn: 0.1500434\ttotal: 26.1s\tremaining: 2.3s\n",
            "919:\tlearn: 0.1499882\ttotal: 26.1s\tremaining: 2.27s\n",
            "920:\tlearn: 0.1499253\ttotal: 26.2s\tremaining: 2.25s\n",
            "921:\tlearn: 0.1498927\ttotal: 26.2s\tremaining: 2.22s\n",
            "922:\tlearn: 0.1498280\ttotal: 26.2s\tremaining: 2.19s\n",
            "923:\tlearn: 0.1497863\ttotal: 26.3s\tremaining: 2.16s\n",
            "924:\tlearn: 0.1497260\ttotal: 26.3s\tremaining: 2.13s\n",
            "925:\tlearn: 0.1497032\ttotal: 26.3s\tremaining: 2.1s\n",
            "926:\tlearn: 0.1496533\ttotal: 26.3s\tremaining: 2.07s\n",
            "927:\tlearn: 0.1496136\ttotal: 26.4s\tremaining: 2.05s\n",
            "928:\tlearn: 0.1495645\ttotal: 26.4s\tremaining: 2.02s\n",
            "929:\tlearn: 0.1495319\ttotal: 26.4s\tremaining: 1.99s\n",
            "930:\tlearn: 0.1495179\ttotal: 26.5s\tremaining: 1.96s\n",
            "931:\tlearn: 0.1494641\ttotal: 26.5s\tremaining: 1.93s\n",
            "932:\tlearn: 0.1494494\ttotal: 26.5s\tremaining: 1.9s\n",
            "933:\tlearn: 0.1493467\ttotal: 26.5s\tremaining: 1.88s\n",
            "934:\tlearn: 0.1492839\ttotal: 26.6s\tremaining: 1.85s\n",
            "935:\tlearn: 0.1492131\ttotal: 26.6s\tremaining: 1.82s\n",
            "936:\tlearn: 0.1491661\ttotal: 26.6s\tremaining: 1.79s\n",
            "937:\tlearn: 0.1491260\ttotal: 26.7s\tremaining: 1.76s\n",
            "938:\tlearn: 0.1490674\ttotal: 26.7s\tremaining: 1.73s\n",
            "939:\tlearn: 0.1489984\ttotal: 26.7s\tremaining: 1.71s\n",
            "940:\tlearn: 0.1489420\ttotal: 26.7s\tremaining: 1.68s\n",
            "941:\tlearn: 0.1489185\ttotal: 26.8s\tremaining: 1.65s\n",
            "942:\tlearn: 0.1488908\ttotal: 26.8s\tremaining: 1.62s\n",
            "943:\tlearn: 0.1488482\ttotal: 26.8s\tremaining: 1.59s\n",
            "944:\tlearn: 0.1488344\ttotal: 26.9s\tremaining: 1.56s\n",
            "945:\tlearn: 0.1487800\ttotal: 26.9s\tremaining: 1.53s\n",
            "946:\tlearn: 0.1487104\ttotal: 26.9s\tremaining: 1.51s\n",
            "947:\tlearn: 0.1486977\ttotal: 26.9s\tremaining: 1.48s\n",
            "948:\tlearn: 0.1486843\ttotal: 27s\tremaining: 1.45s\n",
            "949:\tlearn: 0.1486501\ttotal: 27s\tremaining: 1.42s\n",
            "950:\tlearn: 0.1486103\ttotal: 27s\tremaining: 1.39s\n",
            "951:\tlearn: 0.1485788\ttotal: 27.1s\tremaining: 1.36s\n",
            "952:\tlearn: 0.1485418\ttotal: 27.1s\tremaining: 1.33s\n",
            "953:\tlearn: 0.1484715\ttotal: 27.1s\tremaining: 1.31s\n",
            "954:\tlearn: 0.1484590\ttotal: 27.1s\tremaining: 1.28s\n",
            "955:\tlearn: 0.1484159\ttotal: 27.2s\tremaining: 1.25s\n",
            "956:\tlearn: 0.1483638\ttotal: 27.2s\tremaining: 1.22s\n",
            "957:\tlearn: 0.1483164\ttotal: 27.2s\tremaining: 1.19s\n",
            "958:\tlearn: 0.1482828\ttotal: 27.3s\tremaining: 1.17s\n",
            "959:\tlearn: 0.1482207\ttotal: 27.3s\tremaining: 1.14s\n",
            "960:\tlearn: 0.1481879\ttotal: 27.3s\tremaining: 1.11s\n",
            "961:\tlearn: 0.1481713\ttotal: 27.3s\tremaining: 1.08s\n",
            "962:\tlearn: 0.1480992\ttotal: 27.4s\tremaining: 1.05s\n",
            "963:\tlearn: 0.1480713\ttotal: 27.4s\tremaining: 1.02s\n",
            "964:\tlearn: 0.1480089\ttotal: 27.4s\tremaining: 995ms\n",
            "965:\tlearn: 0.1479657\ttotal: 27.5s\tremaining: 966ms\n",
            "966:\tlearn: 0.1479516\ttotal: 27.5s\tremaining: 938ms\n",
            "967:\tlearn: 0.1478887\ttotal: 27.5s\tremaining: 910ms\n",
            "968:\tlearn: 0.1478504\ttotal: 27.5s\tremaining: 881ms\n",
            "969:\tlearn: 0.1478276\ttotal: 27.6s\tremaining: 853ms\n",
            "970:\tlearn: 0.1478066\ttotal: 27.6s\tremaining: 824ms\n",
            "971:\tlearn: 0.1477541\ttotal: 27.6s\tremaining: 796ms\n",
            "972:\tlearn: 0.1476905\ttotal: 27.7s\tremaining: 767ms\n",
            "973:\tlearn: 0.1476432\ttotal: 27.7s\tremaining: 739ms\n",
            "974:\tlearn: 0.1475768\ttotal: 27.7s\tremaining: 711ms\n",
            "975:\tlearn: 0.1475638\ttotal: 27.7s\tremaining: 682ms\n",
            "976:\tlearn: 0.1475056\ttotal: 27.8s\tremaining: 654ms\n",
            "977:\tlearn: 0.1474613\ttotal: 27.8s\tremaining: 625ms\n",
            "978:\tlearn: 0.1474465\ttotal: 27.8s\tremaining: 597ms\n",
            "979:\tlearn: 0.1473766\ttotal: 27.8s\tremaining: 568ms\n",
            "980:\tlearn: 0.1473034\ttotal: 27.9s\tremaining: 540ms\n",
            "981:\tlearn: 0.1472788\ttotal: 27.9s\tremaining: 511ms\n",
            "982:\tlearn: 0.1472316\ttotal: 27.9s\tremaining: 483ms\n",
            "983:\tlearn: 0.1472160\ttotal: 28s\tremaining: 454ms\n",
            "984:\tlearn: 0.1471650\ttotal: 28s\tremaining: 426ms\n",
            "985:\tlearn: 0.1471139\ttotal: 28s\tremaining: 398ms\n",
            "986:\tlearn: 0.1471011\ttotal: 28s\tremaining: 369ms\n",
            "987:\tlearn: 0.1470513\ttotal: 28.1s\tremaining: 341ms\n",
            "988:\tlearn: 0.1470217\ttotal: 28.1s\tremaining: 312ms\n",
            "989:\tlearn: 0.1469270\ttotal: 28.1s\tremaining: 284ms\n",
            "990:\tlearn: 0.1469064\ttotal: 28.2s\tremaining: 256ms\n",
            "991:\tlearn: 0.1468682\ttotal: 28.2s\tremaining: 227ms\n",
            "992:\tlearn: 0.1468140\ttotal: 28.2s\tremaining: 199ms\n",
            "993:\tlearn: 0.1467758\ttotal: 28.2s\tremaining: 170ms\n",
            "994:\tlearn: 0.1467615\ttotal: 28.3s\tremaining: 142ms\n",
            "995:\tlearn: 0.1467438\ttotal: 28.3s\tremaining: 114ms\n",
            "996:\tlearn: 0.1467216\ttotal: 28.3s\tremaining: 85.2ms\n",
            "997:\tlearn: 0.1467011\ttotal: 28.3s\tremaining: 56.8ms\n",
            "998:\tlearn: 0.1466352\ttotal: 28.4s\tremaining: 28.4ms\n",
            "999:\tlearn: 0.1466227\ttotal: 28.4s\tremaining: 0us\n"
          ],
          "name": "stdout"
        },
        {
          "output_type": "execute_result",
          "data": {
            "text/plain": [
              "<catboost.core.CatBoostClassifier at 0x7f04f00060d0>"
            ]
          },
          "metadata": {
            "tags": []
          },
          "execution_count": 86
        }
      ]
    },
    {
      "cell_type": "code",
      "metadata": {
        "colab": {
          "base_uri": "https://localhost:8080/",
          "height": 346
        },
        "id": "y6D5yF7l3_cX",
        "outputId": "6d40d92e-1d4b-414c-9ade-b210545cbd53"
      },
      "source": [
        "pred = model.predict(X_test)\n",
        "score = metrics.accuracy_score(y_test, pred)\n",
        "score=score*100\n",
        "score = '{0:.3g}'.format(score)\n",
        "\n",
        "print(\"Accuracy: \", score,\"%\")\n",
        "cm = metrics.confusion_matrix(y_test, pred)\n",
        "plot_confusion_matrix(cm, classes=['FAKE', 'REAL'])\n"
      ],
      "execution_count": 87,
      "outputs": [
        {
          "output_type": "stream",
          "text": [
            "Accuracy:  92.6 %\n",
            "Confusion matrix, without normalization\n"
          ],
          "name": "stdout"
        },
        {
          "output_type": "display_data",
          "data": {
            "image/png": "[encoded data removed]",
            "text/plain": [
              "<Figure size 432x288 with 2 Axes>"
            ]
          },
          "metadata": {
            "tags": [],
            "needs_background": "light"
          }
        }
      ]
    },
    {
      "cell_type": "markdown",
      "metadata": {
        "id": "35ME3flG4iC1"
      },
      "source": [
        "**Best Accuracy is in Random Forest Classifier 93.3%**"
      ]
    },
    {
      "cell_type": "markdown",
      "metadata": {
        "id": "Pe59R9hs8-hv"
      },
      "source": [
        "**<h2>Predicting on test set**"
      ]
    },
    {
      "cell_type": "code",
      "metadata": {
        "id": "ZL1a82q48s_G"
      },
      "source": [
        "test=pd.read_csv('test.csv')"
      ],
      "execution_count": 95,
      "outputs": []
    },
    {
      "cell_type": "code",
      "metadata": {
        "colab": {
          "base_uri": "https://localhost:8080/"
        },
        "id": "_7kWrojv87JI",
        "outputId": "e45f198f-25d2-48f5-d39e-33fde10b08d3"
      },
      "source": [
        "test.info()"
      ],
      "execution_count": 96,
      "outputs": [
        {
          "output_type": "stream",
          "text": [
            "<class 'pandas.core.frame.DataFrame'>\n",
            "RangeIndex: 5200 entries, 0 to 5199\n",
            "Data columns (total 4 columns):\n",
            " #   Column  Non-Null Count  Dtype \n",
            "---  ------  --------------  ----- \n",
            " 0   id      5200 non-null   int64 \n",
            " 1   title   5078 non-null   object\n",
            " 2   author  4697 non-null   object\n",
            " 3   text    5193 non-null   object\n",
            "dtypes: int64(1), object(3)\n",
            "memory usage: 162.6+ KB\n"
          ],
          "name": "stdout"
        }
      ]
    },
    {
      "cell_type": "code",
      "metadata": {
        "id": "3TF4e19u9FjN"
      },
      "source": [
        "from nltk.corpus import stopwords\n",
        "from nltk.stem.porter import PorterStemmer\n",
        "import re\n",
        "ps = PorterStemmer()\n",
        "corpus = []\n",
        "for i in range(0, len(test)):\n",
        "    review = re.sub('[^a-zA-Z]', ' ', messages['title'][i])\n",
        "    review = review.lower()\n",
        "    review = review.split()\n",
        "    \n",
        "    review = [ps.stem(word) for word in review if not word in stopwords.words('english')]\n",
        "    review = ' '.join(review)\n",
        "    corpus.append(review)\n"
      ],
      "execution_count": 97,
      "outputs": []
    },
    {
      "cell_type": "code",
      "metadata": {
        "id": "LEQu_OPG9ZFl"
      },
      "source": [
        "## Applying Countvectorizer\n",
        "# Creating the Bag of Words model\n",
        "from sklearn.feature_extraction.text import CountVectorizer\n",
        "cv = CountVectorizer(max_features=5000,ngram_range=(1,3))\n",
        "test_set = cv.fit_transform(corpus).toarray()"
      ],
      "execution_count": 99,
      "outputs": []
    },
    {
      "cell_type": "code",
      "metadata": {
        "id": "zv70dzZ39dNM"
      },
      "source": [
        "test_pred=model.predict(test_set)"
      ],
      "execution_count": 100,
      "outputs": []
    },
    {
      "cell_type": "code",
      "metadata": {
        "colab": {
          "base_uri": "https://localhost:8080/"
        },
        "id": "J08HXWD89pY2",
        "outputId": "26d013ab-38a1-418d-ecc1-8e5dbc5f3397"
      },
      "source": [
        "test_pred"
      ],
      "execution_count": 106,
      "outputs": [
        {
          "output_type": "execute_result",
          "data": {
            "text/plain": [
              "array([1, 1, 1, ..., 1, 1, 1])"
            ]
          },
          "metadata": {
            "tags": []
          },
          "execution_count": 106
        }
      ]
    },
    {
      "cell_type": "markdown",
      "metadata": {
        "id": "U5aCEarx-iRd"
      },
      "source": [
        "**Creating CSV**"
      ]
    },
    {
      "cell_type": "code",
      "metadata": {
        "id": "7dxAVukZ-ANl"
      },
      "source": [
        "akash_submission=pd.DataFrame()"
      ],
      "execution_count": 109,
      "outputs": []
    },
    {
      "cell_type": "code",
      "metadata": {
        "id": "Jd5nOyuE-S4F"
      },
      "source": [
        "akash_submission['id']=test['id']\n",
        "akash_submission['label']=test_pred"
      ],
      "execution_count": 110,
      "outputs": []
    },
    {
      "cell_type": "code",
      "metadata": {
        "colab": {
          "base_uri": "https://localhost:8080/",
          "height": 423
        },
        "id": "_BlvqzLr-dce",
        "outputId": "892f2a3d-b774-45e4-b2b0-f30bdcb6df02"
      },
      "source": [
        "akash_submission"
      ],
      "execution_count": 111,
      "outputs": [
        {
          "output_type": "execute_result",
          "data": {
            "text/html": [
              "<div>\n",
              "<style scoped>\n",
              "    .dataframe tbody tr th:only-of-type {\n",
              "        vertical-align: middle;\n",
              "    }\n",
              "\n",
              "    .dataframe tbody tr th {\n",
              "        vertical-align: top;\n",
              "    }\n",
              "\n",
              "    .dataframe thead th {\n",
              "        text-align: right;\n",
              "    }\n",
              "</style>\n",
              "<table border=\"1\" class=\"dataframe\">\n",
              "  <thead>\n",
              "    <tr style=\"text-align: right;\">\n",
              "      <th></th>\n",
              "      <th>id</th>\n",
              "      <th>label</th>\n",
              "    </tr>\n",
              "  </thead>\n",
              "  <tbody>\n",
              "    <tr>\n",
              "      <th>0</th>\n",
              "      <td>20800</td>\n",
              "      <td>1</td>\n",
              "    </tr>\n",
              "    <tr>\n",
              "      <th>1</th>\n",
              "      <td>20801</td>\n",
              "      <td>1</td>\n",
              "    </tr>\n",
              "    <tr>\n",
              "      <th>2</th>\n",
              "      <td>20802</td>\n",
              "      <td>1</td>\n",
              "    </tr>\n",
              "    <tr>\n",
              "      <th>3</th>\n",
              "      <td>20803</td>\n",
              "      <td>1</td>\n",
              "    </tr>\n",
              "    <tr>\n",
              "      <th>4</th>\n",
              "      <td>20804</td>\n",
              "      <td>1</td>\n",
              "    </tr>\n",
              "    <tr>\n",
              "      <th>...</th>\n",
              "      <td>...</td>\n",
              "      <td>...</td>\n",
              "    </tr>\n",
              "    <tr>\n",
              "      <th>5195</th>\n",
              "      <td>25995</td>\n",
              "      <td>1</td>\n",
              "    </tr>\n",
              "    <tr>\n",
              "      <th>5196</th>\n",
              "      <td>25996</td>\n",
              "      <td>0</td>\n",
              "    </tr>\n",
              "    <tr>\n",
              "      <th>5197</th>\n",
              "      <td>25997</td>\n",
              "      <td>1</td>\n",
              "    </tr>\n",
              "    <tr>\n",
              "      <th>5198</th>\n",
              "      <td>25998</td>\n",
              "      <td>1</td>\n",
              "    </tr>\n",
              "    <tr>\n",
              "      <th>5199</th>\n",
              "      <td>25999</td>\n",
              "      <td>1</td>\n",
              "    </tr>\n",
              "  </tbody>\n",
              "</table>\n",
              "<p>5200 rows × 2 columns</p>\n",
              "</div>"
            ],
            "text/plain": [
              "         id  label\n",
              "0     20800      1\n",
              "1     20801      1\n",
              "2     20802      1\n",
              "3     20803      1\n",
              "4     20804      1\n",
              "...     ...    ...\n",
              "5195  25995      1\n",
              "5196  25996      0\n",
              "5197  25997      1\n",
              "5198  25998      1\n",
              "5199  25999      1\n",
              "\n",
              "[5200 rows x 2 columns]"
            ]
          },
          "metadata": {
            "tags": []
          },
          "execution_count": 111
        }
      ]
    },
    {
      "cell_type": "code",
      "metadata": {
        "id": "fWzy0WeJ-nIa"
      },
      "source": [
        "akash_submission.to_csv('akash_submit.csv')"
      ],
      "execution_count": 112,
      "outputs": []
    }
  ]
}